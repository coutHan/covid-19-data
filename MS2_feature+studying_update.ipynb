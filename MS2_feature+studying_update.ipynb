{
 "cells": [
  {
   "cell_type": "code",
   "execution_count": 1,
   "metadata": {},
   "outputs": [],
   "source": [
    "import pandas as pd\n",
    "import numpy as np\n",
    "import matplotlib.pyplot as plt\n",
    "import seaborn as sns\n",
    "from sklearn.model_selection import train_test_split\n",
    "from scipy import stats"
   ]
  },
  {
   "cell_type": "code",
   "execution_count": 2,
   "metadata": {},
   "outputs": [
    {
     "data": {
      "text/html": [
       "<div>\n",
       "<style scoped>\n",
       "    .dataframe tbody tr th:only-of-type {\n",
       "        vertical-align: middle;\n",
       "    }\n",
       "\n",
       "    .dataframe tbody tr th {\n",
       "        vertical-align: top;\n",
       "    }\n",
       "\n",
       "    .dataframe thead th {\n",
       "        text-align: right;\n",
       "    }\n",
       "</style>\n",
       "<table border=\"1\" class=\"dataframe\">\n",
       "  <thead>\n",
       "    <tr style=\"text-align: right;\">\n",
       "      <th></th>\n",
       "      <th>fips</th>\n",
       "      <th>mask rate</th>\n",
       "      <th>ratio</th>\n",
       "      <th>stay at home 56</th>\n",
       "      <th>stay at home 78</th>\n",
       "      <th>&gt;50 gatherings 56</th>\n",
       "      <th>&gt;50 gatherings 78</th>\n",
       "      <th>&gt;500 gatherings 56</th>\n",
       "      <th>&gt;500 gatherings 78</th>\n",
       "      <th>restaurant dine-in 56</th>\n",
       "      <th>restaurant dine-in 78</th>\n",
       "      <th>entertainment/gym 56</th>\n",
       "      <th>entertainment/gym 78</th>\n",
       "    </tr>\n",
       "  </thead>\n",
       "  <tbody>\n",
       "    <tr>\n",
       "      <th>0</th>\n",
       "      <td>45001</td>\n",
       "      <td>0.64250</td>\n",
       "      <td>5.216100</td>\n",
       "      <td>0.016667</td>\n",
       "      <td>0.000000</td>\n",
       "      <td>0.566667</td>\n",
       "      <td>0.0</td>\n",
       "      <td>0.566667</td>\n",
       "      <td>0.0</td>\n",
       "      <td>0.183333</td>\n",
       "      <td>0.0</td>\n",
       "      <td>0.300000</td>\n",
       "      <td>0.0</td>\n",
       "    </tr>\n",
       "    <tr>\n",
       "      <th>1</th>\n",
       "      <td>22001</td>\n",
       "      <td>0.65750</td>\n",
       "      <td>5.159126</td>\n",
       "      <td>0.250000</td>\n",
       "      <td>0.000000</td>\n",
       "      <td>0.666667</td>\n",
       "      <td>0.0</td>\n",
       "      <td>0.666667</td>\n",
       "      <td>0.0</td>\n",
       "      <td>0.250000</td>\n",
       "      <td>0.0</td>\n",
       "      <td>0.250000</td>\n",
       "      <td>0.0</td>\n",
       "    </tr>\n",
       "    <tr>\n",
       "      <th>2</th>\n",
       "      <td>51001</td>\n",
       "      <td>0.93125</td>\n",
       "      <td>1.366825</td>\n",
       "      <td>0.216667</td>\n",
       "      <td>0.000000</td>\n",
       "      <td>1.000000</td>\n",
       "      <td>1.0</td>\n",
       "      <td>1.000000</td>\n",
       "      <td>1.0</td>\n",
       "      <td>0.183333</td>\n",
       "      <td>0.0</td>\n",
       "      <td>0.183333</td>\n",
       "      <td>0.0</td>\n",
       "    </tr>\n",
       "    <tr>\n",
       "      <th>3</th>\n",
       "      <td>16001</td>\n",
       "      <td>0.73300</td>\n",
       "      <td>7.916929</td>\n",
       "      <td>0.016667</td>\n",
       "      <td>0.000000</td>\n",
       "      <td>0.500000</td>\n",
       "      <td>0.0</td>\n",
       "      <td>0.716667</td>\n",
       "      <td>0.0</td>\n",
       "      <td>0.300000</td>\n",
       "      <td>0.0</td>\n",
       "      <td>0.300000</td>\n",
       "      <td>0.0</td>\n",
       "    </tr>\n",
       "    <tr>\n",
       "      <th>4</th>\n",
       "      <td>19001</td>\n",
       "      <td>0.69025</td>\n",
       "      <td>3.448276</td>\n",
       "      <td>0.000000</td>\n",
       "      <td>0.016393</td>\n",
       "      <td>1.000000</td>\n",
       "      <td>1.0</td>\n",
       "      <td>1.000000</td>\n",
       "      <td>1.0</td>\n",
       "      <td>0.183333</td>\n",
       "      <td>0.0</td>\n",
       "      <td>0.183333</td>\n",
       "      <td>0.0</td>\n",
       "    </tr>\n",
       "  </tbody>\n",
       "</table>\n",
       "</div>"
      ],
      "text/plain": [
       "    fips  mask rate     ratio  stay at home 56  stay at home 78  \\\n",
       "0  45001    0.64250  5.216100         0.016667         0.000000   \n",
       "1  22001    0.65750  5.159126         0.250000         0.000000   \n",
       "2  51001    0.93125  1.366825         0.216667         0.000000   \n",
       "3  16001    0.73300  7.916929         0.016667         0.000000   \n",
       "4  19001    0.69025  3.448276         0.000000         0.016393   \n",
       "\n",
       "   >50 gatherings 56  >50 gatherings 78  >500 gatherings 56  \\\n",
       "0           0.566667                0.0            0.566667   \n",
       "1           0.666667                0.0            0.666667   \n",
       "2           1.000000                1.0            1.000000   \n",
       "3           0.500000                0.0            0.716667   \n",
       "4           1.000000                1.0            1.000000   \n",
       "\n",
       "   >500 gatherings 78  restaurant dine-in 56  restaurant dine-in 78  \\\n",
       "0                 0.0               0.183333                    0.0   \n",
       "1                 0.0               0.250000                    0.0   \n",
       "2                 1.0               0.183333                    0.0   \n",
       "3                 0.0               0.300000                    0.0   \n",
       "4                 1.0               0.183333                    0.0   \n",
       "\n",
       "   entertainment/gym 56  entertainment/gym 78  \n",
       "0              0.300000                   0.0  \n",
       "1              0.250000                   0.0  \n",
       "2              0.183333                   0.0  \n",
       "3              0.300000                   0.0  \n",
       "4              0.183333                   0.0  "
      ]
     },
     "execution_count": 2,
     "metadata": {},
     "output_type": "execute_result"
    }
   ],
   "source": [
    "feature_data = open('/Users/yujia/Desktop/NWU/396_DS/Proj/features_update.csv')\n",
    "df_feature = pd.read_csv(feature_data)\n",
    "df_feature.head()"
   ]
  },
  {
   "cell_type": "code",
   "execution_count": 3,
   "metadata": {},
   "outputs": [
    {
     "name": "stdout",
     "output_type": "stream",
     "text": [
      "<class 'pandas.core.frame.DataFrame'>\n",
      "RangeIndex: 3041 entries, 0 to 3040\n",
      "Data columns (total 13 columns):\n",
      " #   Column                 Non-Null Count  Dtype  \n",
      "---  ------                 --------------  -----  \n",
      " 0   fips                   3041 non-null   int64  \n",
      " 1   mask rate              3041 non-null   float64\n",
      " 2   ratio                  3041 non-null   float64\n",
      " 3   stay at home 56        3041 non-null   float64\n",
      " 4   stay at home 78        3041 non-null   float64\n",
      " 5   >50 gatherings 56      3041 non-null   float64\n",
      " 6   >50 gatherings 78      3041 non-null   float64\n",
      " 7   >500 gatherings 56     3041 non-null   float64\n",
      " 8   >500 gatherings 78     3041 non-null   float64\n",
      " 9   restaurant dine-in 56  3041 non-null   float64\n",
      " 10  restaurant dine-in 78  3041 non-null   float64\n",
      " 11  entertainment/gym 56   3041 non-null   float64\n",
      " 12  entertainment/gym 78   3041 non-null   float64\n",
      "dtypes: float64(12), int64(1)\n",
      "memory usage: 309.0 KB\n"
     ]
    }
   ],
   "source": [
    "df_feature.info()"
   ]
  },
  {
   "cell_type": "code",
   "execution_count": 4,
   "metadata": {},
   "outputs": [
    {
     "data": {
      "text/html": [
       "<div>\n",
       "<style scoped>\n",
       "    .dataframe tbody tr th:only-of-type {\n",
       "        vertical-align: middle;\n",
       "    }\n",
       "\n",
       "    .dataframe tbody tr th {\n",
       "        vertical-align: top;\n",
       "    }\n",
       "\n",
       "    .dataframe thead th {\n",
       "        text-align: right;\n",
       "    }\n",
       "</style>\n",
       "<table border=\"1\" class=\"dataframe\">\n",
       "  <thead>\n",
       "    <tr style=\"text-align: right;\">\n",
       "      <th></th>\n",
       "      <th>fips</th>\n",
       "      <th>mask rate</th>\n",
       "      <th>ratio</th>\n",
       "      <th>stay at home 56</th>\n",
       "      <th>stay at home 78</th>\n",
       "      <th>&gt;50 gatherings 56</th>\n",
       "      <th>&gt;50 gatherings 78</th>\n",
       "      <th>&gt;500 gatherings 56</th>\n",
       "      <th>&gt;500 gatherings 78</th>\n",
       "      <th>restaurant dine-in 56</th>\n",
       "      <th>restaurant dine-in 78</th>\n",
       "      <th>entertainment/gym 56</th>\n",
       "      <th>entertainment/gym 78</th>\n",
       "    </tr>\n",
       "  </thead>\n",
       "  <tbody>\n",
       "    <tr>\n",
       "      <th>count</th>\n",
       "      <td>3041.000000</td>\n",
       "      <td>3041.000000</td>\n",
       "      <td>3041.000000</td>\n",
       "      <td>3041.000000</td>\n",
       "      <td>3041.000000</td>\n",
       "      <td>3041.000000</td>\n",
       "      <td>3041.000000</td>\n",
       "      <td>3041.000000</td>\n",
       "      <td>3041.000000</td>\n",
       "      <td>3041.000000</td>\n",
       "      <td>3041.000000</td>\n",
       "      <td>3041.000000</td>\n",
       "      <td>3041.000000</td>\n",
       "    </tr>\n",
       "    <tr>\n",
       "      <th>mean</th>\n",
       "      <td>30348.783295</td>\n",
       "      <td>0.747597</td>\n",
       "      <td>7.008148</td>\n",
       "      <td>0.254576</td>\n",
       "      <td>0.034701</td>\n",
       "      <td>0.785295</td>\n",
       "      <td>0.606094</td>\n",
       "      <td>0.829617</td>\n",
       "      <td>0.673177</td>\n",
       "      <td>0.333180</td>\n",
       "      <td>0.107444</td>\n",
       "      <td>0.359098</td>\n",
       "      <td>0.133530</td>\n",
       "    </tr>\n",
       "    <tr>\n",
       "      <th>std</th>\n",
       "      <td>15232.455309</td>\n",
       "      <td>0.101978</td>\n",
       "      <td>22.966997</td>\n",
       "      <td>0.270988</td>\n",
       "      <td>0.176275</td>\n",
       "      <td>0.315685</td>\n",
       "      <td>0.487703</td>\n",
       "      <td>0.294181</td>\n",
       "      <td>0.468096</td>\n",
       "      <td>0.340795</td>\n",
       "      <td>0.308892</td>\n",
       "      <td>0.349751</td>\n",
       "      <td>0.338815</td>\n",
       "    </tr>\n",
       "    <tr>\n",
       "      <th>min</th>\n",
       "      <td>1001.000000</td>\n",
       "      <td>0.358250</td>\n",
       "      <td>1.016393</td>\n",
       "      <td>0.000000</td>\n",
       "      <td>0.000000</td>\n",
       "      <td>0.000000</td>\n",
       "      <td>0.000000</td>\n",
       "      <td>0.000000</td>\n",
       "      <td>0.000000</td>\n",
       "      <td>0.000000</td>\n",
       "      <td>0.000000</td>\n",
       "      <td>0.000000</td>\n",
       "      <td>0.000000</td>\n",
       "    </tr>\n",
       "    <tr>\n",
       "      <th>25%</th>\n",
       "      <td>18157.000000</td>\n",
       "      <td>0.674000</td>\n",
       "      <td>2.470764</td>\n",
       "      <td>0.000000</td>\n",
       "      <td>0.000000</td>\n",
       "      <td>0.583333</td>\n",
       "      <td>0.000000</td>\n",
       "      <td>0.700000</td>\n",
       "      <td>0.000000</td>\n",
       "      <td>0.066667</td>\n",
       "      <td>0.000000</td>\n",
       "      <td>0.133333</td>\n",
       "      <td>0.000000</td>\n",
       "    </tr>\n",
       "    <tr>\n",
       "      <th>50%</th>\n",
       "      <td>29131.000000</td>\n",
       "      <td>0.749750</td>\n",
       "      <td>4.064643</td>\n",
       "      <td>0.216667</td>\n",
       "      <td>0.000000</td>\n",
       "      <td>1.000000</td>\n",
       "      <td>1.000000</td>\n",
       "      <td>1.000000</td>\n",
       "      <td>1.000000</td>\n",
       "      <td>0.183333</td>\n",
       "      <td>0.000000</td>\n",
       "      <td>0.250000</td>\n",
       "      <td>0.000000</td>\n",
       "    </tr>\n",
       "    <tr>\n",
       "      <th>75%</th>\n",
       "      <td>45085.000000</td>\n",
       "      <td>0.823750</td>\n",
       "      <td>7.102193</td>\n",
       "      <td>0.500000</td>\n",
       "      <td>0.000000</td>\n",
       "      <td>1.000000</td>\n",
       "      <td>1.000000</td>\n",
       "      <td>1.000000</td>\n",
       "      <td>1.000000</td>\n",
       "      <td>0.583333</td>\n",
       "      <td>0.000000</td>\n",
       "      <td>0.666667</td>\n",
       "      <td>0.000000</td>\n",
       "    </tr>\n",
       "    <tr>\n",
       "      <th>max</th>\n",
       "      <td>56045.000000</td>\n",
       "      <td>0.962250</td>\n",
       "      <td>1035.000000</td>\n",
       "      <td>1.000000</td>\n",
       "      <td>1.000000</td>\n",
       "      <td>1.000000</td>\n",
       "      <td>1.000000</td>\n",
       "      <td>1.000000</td>\n",
       "      <td>1.000000</td>\n",
       "      <td>1.000000</td>\n",
       "      <td>1.000000</td>\n",
       "      <td>1.000000</td>\n",
       "      <td>1.000000</td>\n",
       "    </tr>\n",
       "  </tbody>\n",
       "</table>\n",
       "</div>"
      ],
      "text/plain": [
       "               fips    mask rate        ratio  stay at home 56  \\\n",
       "count   3041.000000  3041.000000  3041.000000      3041.000000   \n",
       "mean   30348.783295     0.747597     7.008148         0.254576   \n",
       "std    15232.455309     0.101978    22.966997         0.270988   \n",
       "min     1001.000000     0.358250     1.016393         0.000000   \n",
       "25%    18157.000000     0.674000     2.470764         0.000000   \n",
       "50%    29131.000000     0.749750     4.064643         0.216667   \n",
       "75%    45085.000000     0.823750     7.102193         0.500000   \n",
       "max    56045.000000     0.962250  1035.000000         1.000000   \n",
       "\n",
       "       stay at home 78  >50 gatherings 56  >50 gatherings 78  \\\n",
       "count      3041.000000        3041.000000        3041.000000   \n",
       "mean          0.034701           0.785295           0.606094   \n",
       "std           0.176275           0.315685           0.487703   \n",
       "min           0.000000           0.000000           0.000000   \n",
       "25%           0.000000           0.583333           0.000000   \n",
       "50%           0.000000           1.000000           1.000000   \n",
       "75%           0.000000           1.000000           1.000000   \n",
       "max           1.000000           1.000000           1.000000   \n",
       "\n",
       "       >500 gatherings 56  >500 gatherings 78  restaurant dine-in 56  \\\n",
       "count         3041.000000         3041.000000            3041.000000   \n",
       "mean             0.829617            0.673177               0.333180   \n",
       "std              0.294181            0.468096               0.340795   \n",
       "min              0.000000            0.000000               0.000000   \n",
       "25%              0.700000            0.000000               0.066667   \n",
       "50%              1.000000            1.000000               0.183333   \n",
       "75%              1.000000            1.000000               0.583333   \n",
       "max              1.000000            1.000000               1.000000   \n",
       "\n",
       "       restaurant dine-in 78  entertainment/gym 56  entertainment/gym 78  \n",
       "count            3041.000000           3041.000000           3041.000000  \n",
       "mean                0.107444              0.359098              0.133530  \n",
       "std                 0.308892              0.349751              0.338815  \n",
       "min                 0.000000              0.000000              0.000000  \n",
       "25%                 0.000000              0.133333              0.000000  \n",
       "50%                 0.000000              0.250000              0.000000  \n",
       "75%                 0.000000              0.666667              0.000000  \n",
       "max                 1.000000              1.000000              1.000000  "
      ]
     },
     "execution_count": 4,
     "metadata": {},
     "output_type": "execute_result"
    }
   ],
   "source": [
    "df_feature.describe()"
   ]
  },
  {
   "cell_type": "code",
   "execution_count": 5,
   "metadata": {},
   "outputs": [
    {
     "data": {
      "text/plain": [
       "{'whiskers': [<matplotlib.lines.Line2D at 0x7fb862358050>,\n",
       "  <matplotlib.lines.Line2D at 0x7fb862358f50>,\n",
       "  <matplotlib.lines.Line2D at 0x7fb862373c10>,\n",
       "  <matplotlib.lines.Line2D at 0x7fb862382dd0>,\n",
       "  <matplotlib.lines.Line2D at 0x7fb86239b5d0>,\n",
       "  <matplotlib.lines.Line2D at 0x7fb86239bad0>,\n",
       "  <matplotlib.lines.Line2D at 0x7fb8623ad9d0>,\n",
       "  <matplotlib.lines.Line2D at 0x7fb8623aded0>,\n",
       "  <matplotlib.lines.Line2D at 0x7fb8623bed90>,\n",
       "  <matplotlib.lines.Line2D at 0x7fb8623bee50>,\n",
       "  <matplotlib.lines.Line2D at 0x7fb8623cfc90>,\n",
       "  <matplotlib.lines.Line2D at 0x7fb8623da690>,\n",
       "  <matplotlib.lines.Line2D at 0x7fb8623eb510>,\n",
       "  <matplotlib.lines.Line2D at 0x7fb8623eba10>,\n",
       "  <matplotlib.lines.Line2D at 0x7fb8623fc890>,\n",
       "  <matplotlib.lines.Line2D at 0x7fb8623fcd90>,\n",
       "  <matplotlib.lines.Line2D at 0x7fb8623be8d0>,\n",
       "  <matplotlib.lines.Line2D at 0x7fb86240ec50>,\n",
       "  <matplotlib.lines.Line2D at 0x7fb86241ee90>,\n",
       "  <matplotlib.lines.Line2D at 0x7fb8623fce10>,\n",
       "  <matplotlib.lines.Line2D at 0x7fb86242fd50>,\n",
       "  <matplotlib.lines.Line2D at 0x7fb86243a750>],\n",
       " 'caps': [<matplotlib.lines.Line2D at 0x7fb862380790>,\n",
       "  <matplotlib.lines.Line2D at 0x7fb862380c90>,\n",
       "  <matplotlib.lines.Line2D at 0x7fb862387c50>,\n",
       "  <matplotlib.lines.Line2D at 0x7fb862387cd0>,\n",
       "  <matplotlib.lines.Line2D at 0x7fb86239bb90>,\n",
       "  <matplotlib.lines.Line2D at 0x7fb8623a4550>,\n",
       "  <matplotlib.lines.Line2D at 0x7fb8623a4f90>,\n",
       "  <matplotlib.lines.Line2D at 0x7fb8623b6910>,\n",
       "  <matplotlib.lines.Line2D at 0x7fb8623c77d0>,\n",
       "  <matplotlib.lines.Line2D at 0x7fb86239bb50>,\n",
       "  <matplotlib.lines.Line2D at 0x7fb8623dab90>,\n",
       "  <matplotlib.lines.Line2D at 0x7fb8623dac10>,\n",
       "  <matplotlib.lines.Line2D at 0x7fb8623ebf10>,\n",
       "  <matplotlib.lines.Line2D at 0x7fb8623cfc50>,\n",
       "  <matplotlib.lines.Line2D at 0x7fb8623f4ed0>,\n",
       "  <matplotlib.lines.Line2D at 0x7fb8624037d0>,\n",
       "  <matplotlib.lines.Line2D at 0x7fb8624165d0>,\n",
       "  <matplotlib.lines.Line2D at 0x7fb862416ad0>,\n",
       "  <matplotlib.lines.Line2D at 0x7fb8624278d0>,\n",
       "  <matplotlib.lines.Line2D at 0x7fb862427dd0>,\n",
       "  <matplotlib.lines.Line2D at 0x7fb86243ac50>,\n",
       "  <matplotlib.lines.Line2D at 0x7fb86243acd0>],\n",
       " 'boxes': [<matplotlib.lines.Line2D at 0x7fb862373090>,\n",
       "  <matplotlib.lines.Line2D at 0x7fb862382d50>,\n",
       "  <matplotlib.lines.Line2D at 0x7fb862392c10>,\n",
       "  <matplotlib.lines.Line2D at 0x7fb8623ad4d0>,\n",
       "  <matplotlib.lines.Line2D at 0x7fb8623be7d0>,\n",
       "  <matplotlib.lines.Line2D at 0x7fb8623cfb90>,\n",
       "  <matplotlib.lines.Line2D at 0x7fb8623e2fd0>,\n",
       "  <matplotlib.lines.Line2D at 0x7fb8623ebf90>,\n",
       "  <matplotlib.lines.Line2D at 0x7fb8623b6e90>,\n",
       "  <matplotlib.lines.Line2D at 0x7fb8623be490>,\n",
       "  <matplotlib.lines.Line2D at 0x7fb86242fc90>],\n",
       " 'medians': [<matplotlib.lines.Line2D at 0x7fb862380bd0>,\n",
       "  <matplotlib.lines.Line2D at 0x7fb862392690>,\n",
       "  <matplotlib.lines.Line2D at 0x7fb8623a4610>,\n",
       "  <matplotlib.lines.Line2D at 0x7fb8623b6e10>,\n",
       "  <matplotlib.lines.Line2D at 0x7fb8623c7d50>,\n",
       "  <matplotlib.lines.Line2D at 0x7fb8623e25d0>,\n",
       "  <matplotlib.lines.Line2D at 0x7fb8623f4950>,\n",
       "  <matplotlib.lines.Line2D at 0x7fb862403cd0>,\n",
       "  <matplotlib.lines.Line2D at 0x7fb862416fd0>,\n",
       "  <matplotlib.lines.Line2D at 0x7fb86241ef10>,\n",
       "  <matplotlib.lines.Line2D at 0x7fb862442690>],\n",
       " 'fliers': [<matplotlib.lines.Line2D at 0x7fb862382710>,\n",
       "  <matplotlib.lines.Line2D at 0x7fb862392b90>,\n",
       "  <matplotlib.lines.Line2D at 0x7fb8623a4a90>,\n",
       "  <matplotlib.lines.Line2D at 0x7fb8623adf50>,\n",
       "  <matplotlib.lines.Line2D at 0x7fb8623cf6d0>,\n",
       "  <matplotlib.lines.Line2D at 0x7fb8623e2ad0>,\n",
       "  <matplotlib.lines.Line2D at 0x7fb8623f4e50>,\n",
       "  <matplotlib.lines.Line2D at 0x7fb862403d50>,\n",
       "  <matplotlib.lines.Line2D at 0x7fb8623821d0>,\n",
       "  <matplotlib.lines.Line2D at 0x7fb86242f810>,\n",
       "  <matplotlib.lines.Line2D at 0x7fb862442b90>],\n",
       " 'means': []}"
      ]
     },
     "execution_count": 5,
     "metadata": {},
     "output_type": "execute_result"
    },
    {
     "data": {
      "image/png": "[encoded data removed]",
      "text/plain": [
       "<Figure size 1080x720 with 1 Axes>"
      ]
     },
     "metadata": {
      "needs_background": "light"
     },
     "output_type": "display_data"
    }
   ],
   "source": [
    "labels = 'mask rate', 'home 56', 'home 78', '>50 56', '>50 78', '>500 56', '>500 78', 'restaurant 56', 'restaurant 78', 'ent/gym 56', 'ent/gym 78'\n",
    "plt.subplots(figsize = (15, 10))\n",
    "plt.boxplot([df_feature['mask rate'], df_feature['stay at home 56'], df_feature['stay at home 78'], \n",
    "             df_feature['>50 gatherings 56'], df_feature['>50 gatherings 78'], df_feature['>500 gatherings 56'], \n",
    "             df_feature['>500 gatherings 78'], df_feature['restaurant dine-in 56'], df_feature['restaurant dine-in 78'], \n",
    "             df_feature['entertainment/gym 56'], df_feature['entertainment/gym 78']], labels = labels)"
   ]
  },
  {
   "cell_type": "markdown",
   "metadata": {},
   "source": [
    "# Regression"
   ]
  },
  {
   "cell_type": "code",
   "execution_count": 6,
   "metadata": {},
   "outputs": [
    {
     "data": {
      "text/plain": [
       "<matplotlib.axes._subplots.AxesSubplot at 0x7fb862358e90>"
      ]
     },
     "execution_count": 6,
     "metadata": {},
     "output_type": "execute_result"
    },
    {
     "data": {
      "image/png": "[encoded data removed]",
      "text/plain": [
       "<Figure size 1080x720 with 2 Axes>"
      ]
     },
     "metadata": {
      "needs_background": "light"
     },
     "output_type": "display_data"
    }
   ],
   "source": [
    "corr_matrix = df_feature.corr().abs()\n",
    "plt.subplots(figsize = (15, 10))\n",
    "sns.heatmap(corr_matrix, cmap = 'jet')"
   ]
  },
  {
   "cell_type": "code",
   "execution_count": 7,
   "metadata": {},
   "outputs": [
    {
     "data": {
      "text/html": [
       "<div>\n",
       "<style scoped>\n",
       "    .dataframe tbody tr th:only-of-type {\n",
       "        vertical-align: middle;\n",
       "    }\n",
       "\n",
       "    .dataframe tbody tr th {\n",
       "        vertical-align: top;\n",
       "    }\n",
       "\n",
       "    .dataframe thead th {\n",
       "        text-align: right;\n",
       "    }\n",
       "</style>\n",
       "<table border=\"1\" class=\"dataframe\">\n",
       "  <thead>\n",
       "    <tr style=\"text-align: right;\">\n",
       "      <th></th>\n",
       "      <th>fips</th>\n",
       "      <th>mask rate</th>\n",
       "      <th>ratio</th>\n",
       "      <th>stay at home 56</th>\n",
       "      <th>stay at home 78</th>\n",
       "      <th>&gt;50 gatherings 56</th>\n",
       "      <th>&gt;50 gatherings 78</th>\n",
       "      <th>&gt;500 gatherings 56</th>\n",
       "      <th>&gt;500 gatherings 78</th>\n",
       "      <th>restaurant dine-in 56</th>\n",
       "      <th>restaurant dine-in 78</th>\n",
       "      <th>entertainment/gym 56</th>\n",
       "      <th>entertainment/gym 78</th>\n",
       "    </tr>\n",
       "  </thead>\n",
       "  <tbody>\n",
       "    <tr>\n",
       "      <th>0</th>\n",
       "      <td>45001</td>\n",
       "      <td>0.64250</td>\n",
       "      <td>5.216100</td>\n",
       "      <td>0.016667</td>\n",
       "      <td>0.000000</td>\n",
       "      <td>0.566667</td>\n",
       "      <td>0.0</td>\n",
       "      <td>0.566667</td>\n",
       "      <td>0.0</td>\n",
       "      <td>0.183333</td>\n",
       "      <td>0.0</td>\n",
       "      <td>0.300000</td>\n",
       "      <td>0.0</td>\n",
       "    </tr>\n",
       "    <tr>\n",
       "      <th>1</th>\n",
       "      <td>22001</td>\n",
       "      <td>0.65750</td>\n",
       "      <td>5.159126</td>\n",
       "      <td>0.250000</td>\n",
       "      <td>0.000000</td>\n",
       "      <td>0.666667</td>\n",
       "      <td>0.0</td>\n",
       "      <td>0.666667</td>\n",
       "      <td>0.0</td>\n",
       "      <td>0.250000</td>\n",
       "      <td>0.0</td>\n",
       "      <td>0.250000</td>\n",
       "      <td>0.0</td>\n",
       "    </tr>\n",
       "    <tr>\n",
       "      <th>2</th>\n",
       "      <td>51001</td>\n",
       "      <td>0.93125</td>\n",
       "      <td>1.366825</td>\n",
       "      <td>0.216667</td>\n",
       "      <td>0.000000</td>\n",
       "      <td>1.000000</td>\n",
       "      <td>1.0</td>\n",
       "      <td>1.000000</td>\n",
       "      <td>1.0</td>\n",
       "      <td>0.183333</td>\n",
       "      <td>0.0</td>\n",
       "      <td>0.183333</td>\n",
       "      <td>0.0</td>\n",
       "    </tr>\n",
       "    <tr>\n",
       "      <th>3</th>\n",
       "      <td>16001</td>\n",
       "      <td>0.73300</td>\n",
       "      <td>7.916929</td>\n",
       "      <td>0.016667</td>\n",
       "      <td>0.000000</td>\n",
       "      <td>0.500000</td>\n",
       "      <td>0.0</td>\n",
       "      <td>0.716667</td>\n",
       "      <td>0.0</td>\n",
       "      <td>0.300000</td>\n",
       "      <td>0.0</td>\n",
       "      <td>0.300000</td>\n",
       "      <td>0.0</td>\n",
       "    </tr>\n",
       "    <tr>\n",
       "      <th>4</th>\n",
       "      <td>19001</td>\n",
       "      <td>0.69025</td>\n",
       "      <td>3.448276</td>\n",
       "      <td>0.000000</td>\n",
       "      <td>0.016393</td>\n",
       "      <td>1.000000</td>\n",
       "      <td>1.0</td>\n",
       "      <td>1.000000</td>\n",
       "      <td>1.0</td>\n",
       "      <td>0.183333</td>\n",
       "      <td>0.0</td>\n",
       "      <td>0.183333</td>\n",
       "      <td>0.0</td>\n",
       "    </tr>\n",
       "  </tbody>\n",
       "</table>\n",
       "</div>"
      ],
      "text/plain": [
       "    fips  mask rate     ratio  stay at home 56  stay at home 78  \\\n",
       "0  45001    0.64250  5.216100         0.016667         0.000000   \n",
       "1  22001    0.65750  5.159126         0.250000         0.000000   \n",
       "2  51001    0.93125  1.366825         0.216667         0.000000   \n",
       "3  16001    0.73300  7.916929         0.016667         0.000000   \n",
       "4  19001    0.69025  3.448276         0.000000         0.016393   \n",
       "\n",
       "   >50 gatherings 56  >50 gatherings 78  >500 gatherings 56  \\\n",
       "0           0.566667                0.0            0.566667   \n",
       "1           0.666667                0.0            0.666667   \n",
       "2           1.000000                1.0            1.000000   \n",
       "3           0.500000                0.0            0.716667   \n",
       "4           1.000000                1.0            1.000000   \n",
       "\n",
       "   >500 gatherings 78  restaurant dine-in 56  restaurant dine-in 78  \\\n",
       "0                 0.0               0.183333                    0.0   \n",
       "1                 0.0               0.250000                    0.0   \n",
       "2                 1.0               0.183333                    0.0   \n",
       "3                 0.0               0.300000                    0.0   \n",
       "4                 1.0               0.183333                    0.0   \n",
       "\n",
       "   entertainment/gym 56  entertainment/gym 78  \n",
       "0              0.300000                   0.0  \n",
       "1              0.250000                   0.0  \n",
       "2              0.183333                   0.0  \n",
       "3              0.300000                   0.0  \n",
       "4              0.183333                   0.0  "
      ]
     },
     "execution_count": 7,
     "metadata": {},
     "output_type": "execute_result"
    }
   ],
   "source": [
    "feature_filtered = df_feature[df_feature['ratio'] <= 120]  # 3034 rows × 13 columns\n",
    "feature_filtered.head()"
   ]
  },
  {
   "cell_type": "code",
   "execution_count": 8,
   "metadata": {},
   "outputs": [
    {
     "data": {
      "text/plain": [
       "ratio                    5.806962\n",
       "stay at home 78          5.284138\n",
       "restaurant dine-in 78    2.539471\n",
       "entertainment/gym 78     2.162481\n",
       "restaurant dine-in 56    0.954259\n",
       "stay at home 56          0.936932\n",
       "entertainment/gym 56     0.836015\n",
       ">500 gatherings 78      -0.740506\n",
       ">50 gatherings 56       -1.201609\n",
       ">500 gatherings 56      -1.623674\n",
       "dtype: float64"
      ]
     },
     "execution_count": 8,
     "metadata": {},
     "output_type": "execute_result"
    }
   ],
   "source": [
    "skew_thresh = 0.5\n",
    "skewed = feature_filtered.skew().sort_values(ascending = False)\n",
    "a = skewed[abs(skewed) > skew_thresh]\n",
    "a"
   ]
  },
  {
   "cell_type": "code",
   "execution_count": 9,
   "metadata": {},
   "outputs": [
    {
     "data": {
      "text/html": [
       "<div>\n",
       "<style scoped>\n",
       "    .dataframe tbody tr th:only-of-type {\n",
       "        vertical-align: middle;\n",
       "    }\n",
       "\n",
       "    .dataframe tbody tr th {\n",
       "        vertical-align: top;\n",
       "    }\n",
       "\n",
       "    .dataframe thead th {\n",
       "        text-align: right;\n",
       "    }\n",
       "</style>\n",
       "<table border=\"1\" class=\"dataframe\">\n",
       "  <thead>\n",
       "    <tr style=\"text-align: right;\">\n",
       "      <th></th>\n",
       "      <th>fips</th>\n",
       "      <th>mask rate</th>\n",
       "      <th>ratio</th>\n",
       "      <th>stay at home 56</th>\n",
       "      <th>stay at home 78</th>\n",
       "      <th>&gt;50 gatherings 56</th>\n",
       "      <th>&gt;50 gatherings 78</th>\n",
       "      <th>&gt;500 gatherings 56</th>\n",
       "      <th>&gt;500 gatherings 78</th>\n",
       "      <th>restaurant dine-in 56</th>\n",
       "      <th>restaurant dine-in 78</th>\n",
       "      <th>entertainment/gym 56</th>\n",
       "      <th>entertainment/gym 78</th>\n",
       "    </tr>\n",
       "  </thead>\n",
       "  <tbody>\n",
       "    <tr>\n",
       "      <th>0</th>\n",
       "      <td>45001</td>\n",
       "      <td>0.64250</td>\n",
       "      <td>1.827143</td>\n",
       "      <td>0.016529</td>\n",
       "      <td>0.000000</td>\n",
       "      <td>0.448950</td>\n",
       "      <td>0.0</td>\n",
       "      <td>0.448950</td>\n",
       "      <td>0.000000</td>\n",
       "      <td>0.168335</td>\n",
       "      <td>0.0</td>\n",
       "      <td>0.262364</td>\n",
       "      <td>0.0</td>\n",
       "    </tr>\n",
       "    <tr>\n",
       "      <th>1</th>\n",
       "      <td>22001</td>\n",
       "      <td>0.65750</td>\n",
       "      <td>1.817935</td>\n",
       "      <td>0.223144</td>\n",
       "      <td>0.000000</td>\n",
       "      <td>0.510826</td>\n",
       "      <td>0.0</td>\n",
       "      <td>0.510826</td>\n",
       "      <td>0.000000</td>\n",
       "      <td>0.223144</td>\n",
       "      <td>0.0</td>\n",
       "      <td>0.223144</td>\n",
       "      <td>0.0</td>\n",
       "    </tr>\n",
       "    <tr>\n",
       "      <th>2</th>\n",
       "      <td>51001</td>\n",
       "      <td>0.93125</td>\n",
       "      <td>0.861549</td>\n",
       "      <td>0.196115</td>\n",
       "      <td>0.000000</td>\n",
       "      <td>0.693147</td>\n",
       "      <td>1.0</td>\n",
       "      <td>0.693147</td>\n",
       "      <td>0.693147</td>\n",
       "      <td>0.168335</td>\n",
       "      <td>0.0</td>\n",
       "      <td>0.168335</td>\n",
       "      <td>0.0</td>\n",
       "    </tr>\n",
       "    <tr>\n",
       "      <th>3</th>\n",
       "      <td>16001</td>\n",
       "      <td>0.73300</td>\n",
       "      <td>2.187952</td>\n",
       "      <td>0.016529</td>\n",
       "      <td>0.000000</td>\n",
       "      <td>0.405465</td>\n",
       "      <td>0.0</td>\n",
       "      <td>0.540384</td>\n",
       "      <td>0.000000</td>\n",
       "      <td>0.262364</td>\n",
       "      <td>0.0</td>\n",
       "      <td>0.262364</td>\n",
       "      <td>0.0</td>\n",
       "    </tr>\n",
       "    <tr>\n",
       "      <th>4</th>\n",
       "      <td>19001</td>\n",
       "      <td>0.69025</td>\n",
       "      <td>1.492517</td>\n",
       "      <td>0.000000</td>\n",
       "      <td>0.016261</td>\n",
       "      <td>0.693147</td>\n",
       "      <td>1.0</td>\n",
       "      <td>0.693147</td>\n",
       "      <td>0.693147</td>\n",
       "      <td>0.168335</td>\n",
       "      <td>0.0</td>\n",
       "      <td>0.168335</td>\n",
       "      <td>0.0</td>\n",
       "    </tr>\n",
       "  </tbody>\n",
       "</table>\n",
       "</div>"
      ],
      "text/plain": [
       "    fips  mask rate     ratio  stay at home 56  stay at home 78  \\\n",
       "0  45001    0.64250  1.827143         0.016529         0.000000   \n",
       "1  22001    0.65750  1.817935         0.223144         0.000000   \n",
       "2  51001    0.93125  0.861549         0.196115         0.000000   \n",
       "3  16001    0.73300  2.187952         0.016529         0.000000   \n",
       "4  19001    0.69025  1.492517         0.000000         0.016261   \n",
       "\n",
       "   >50 gatherings 56  >50 gatherings 78  >500 gatherings 56  \\\n",
       "0           0.448950                0.0            0.448950   \n",
       "1           0.510826                0.0            0.510826   \n",
       "2           0.693147                1.0            0.693147   \n",
       "3           0.405465                0.0            0.540384   \n",
       "4           0.693147                1.0            0.693147   \n",
       "\n",
       "   >500 gatherings 78  restaurant dine-in 56  restaurant dine-in 78  \\\n",
       "0            0.000000               0.168335                    0.0   \n",
       "1            0.000000               0.223144                    0.0   \n",
       "2            0.693147               0.168335                    0.0   \n",
       "3            0.000000               0.262364                    0.0   \n",
       "4            0.693147               0.168335                    0.0   \n",
       "\n",
       "   entertainment/gym 56  entertainment/gym 78  \n",
       "0              0.262364                   0.0  \n",
       "1              0.223144                   0.0  \n",
       "2              0.168335                   0.0  \n",
       "3              0.262364                   0.0  \n",
       "4              0.168335                   0.0  "
      ]
     },
     "execution_count": 9,
     "metadata": {},
     "output_type": "execute_result"
    }
   ],
   "source": [
    "skewed_cols = skewed[abs(skewed) > skew_thresh].index.tolist()\n",
    "feature_log = feature_filtered.copy()\n",
    "feature_log[skewed_cols] = feature_filtered[skewed_cols].apply(np.log1p)\n",
    "feature_log.head()"
   ]
  },
  {
   "cell_type": "code",
   "execution_count": 10,
   "metadata": {},
   "outputs": [
    {
     "data": {
      "text/html": [
       "<div>\n",
       "<style scoped>\n",
       "    .dataframe tbody tr th:only-of-type {\n",
       "        vertical-align: middle;\n",
       "    }\n",
       "\n",
       "    .dataframe tbody tr th {\n",
       "        vertical-align: top;\n",
       "    }\n",
       "\n",
       "    .dataframe thead th {\n",
       "        text-align: right;\n",
       "    }\n",
       "</style>\n",
       "<table border=\"1\" class=\"dataframe\">\n",
       "  <thead>\n",
       "    <tr style=\"text-align: right;\">\n",
       "      <th></th>\n",
       "      <th>fips</th>\n",
       "      <th>mask rate</th>\n",
       "      <th>ratio</th>\n",
       "      <th>stay at home 56</th>\n",
       "      <th>stay at home 78</th>\n",
       "      <th>&gt;50 gatherings 56</th>\n",
       "      <th>&gt;50 gatherings 78</th>\n",
       "      <th>&gt;500 gatherings 56</th>\n",
       "      <th>&gt;500 gatherings 78</th>\n",
       "      <th>restaurant dine-in 56</th>\n",
       "      <th>restaurant dine-in 78</th>\n",
       "      <th>entertainment/gym 56</th>\n",
       "      <th>entertainment/gym 78</th>\n",
       "    </tr>\n",
       "  </thead>\n",
       "  <tbody>\n",
       "    <tr>\n",
       "      <th>0</th>\n",
       "      <td>0.265809</td>\n",
       "      <td>-0.174114</td>\n",
       "      <td>0.027236</td>\n",
       "      <td>-0.272784</td>\n",
       "      <td>-0.035850</td>\n",
       "      <td>-0.161645</td>\n",
       "      <td>-0.607163</td>\n",
       "      <td>-0.200611</td>\n",
       "      <td>-0.674816</td>\n",
       "      <td>-0.129804</td>\n",
       "      <td>-0.107909</td>\n",
       "      <td>-0.020641</td>\n",
       "      <td>-0.134241</td>\n",
       "    </tr>\n",
       "    <tr>\n",
       "      <th>1</th>\n",
       "      <td>-0.152038</td>\n",
       "      <td>-0.149279</td>\n",
       "      <td>0.024925</td>\n",
       "      <td>0.025297</td>\n",
       "      <td>-0.035850</td>\n",
       "      <td>-0.072378</td>\n",
       "      <td>-0.607163</td>\n",
       "      <td>-0.111343</td>\n",
       "      <td>-0.674816</td>\n",
       "      <td>-0.050732</td>\n",
       "      <td>-0.107909</td>\n",
       "      <td>-0.077225</td>\n",
       "      <td>-0.134241</td>\n",
       "    </tr>\n",
       "    <tr>\n",
       "      <th>2</th>\n",
       "      <td>0.374813</td>\n",
       "      <td>0.303949</td>\n",
       "      <td>-0.215184</td>\n",
       "      <td>-0.013697</td>\n",
       "      <td>-0.035850</td>\n",
       "      <td>0.190657</td>\n",
       "      <td>0.392837</td>\n",
       "      <td>0.151691</td>\n",
       "      <td>0.325184</td>\n",
       "      <td>-0.129804</td>\n",
       "      <td>-0.107909</td>\n",
       "      <td>-0.156296</td>\n",
       "      <td>-0.134241</td>\n",
       "    </tr>\n",
       "    <tr>\n",
       "      <th>3</th>\n",
       "      <td>-0.261042</td>\n",
       "      <td>-0.024279</td>\n",
       "      <td>0.117821</td>\n",
       "      <td>-0.272784</td>\n",
       "      <td>-0.035850</td>\n",
       "      <td>-0.224381</td>\n",
       "      <td>-0.607163</td>\n",
       "      <td>-0.068699</td>\n",
       "      <td>-0.674816</td>\n",
       "      <td>0.005851</td>\n",
       "      <td>-0.107909</td>\n",
       "      <td>-0.020641</td>\n",
       "      <td>-0.134241</td>\n",
       "    </tr>\n",
       "    <tr>\n",
       "      <th>4</th>\n",
       "      <td>-0.206540</td>\n",
       "      <td>-0.095057</td>\n",
       "      <td>-0.056774</td>\n",
       "      <td>-0.296631</td>\n",
       "      <td>-0.012391</td>\n",
       "      <td>0.190657</td>\n",
       "      <td>0.392837</td>\n",
       "      <td>0.151691</td>\n",
       "      <td>0.325184</td>\n",
       "      <td>-0.129804</td>\n",
       "      <td>-0.107909</td>\n",
       "      <td>-0.156296</td>\n",
       "      <td>-0.134241</td>\n",
       "    </tr>\n",
       "  </tbody>\n",
       "</table>\n",
       "</div>"
      ],
      "text/plain": [
       "       fips  mask rate     ratio  stay at home 56  stay at home 78  \\\n",
       "0  0.265809  -0.174114  0.027236        -0.272784        -0.035850   \n",
       "1 -0.152038  -0.149279  0.024925         0.025297        -0.035850   \n",
       "2  0.374813   0.303949 -0.215184        -0.013697        -0.035850   \n",
       "3 -0.261042  -0.024279  0.117821        -0.272784        -0.035850   \n",
       "4 -0.206540  -0.095057 -0.056774        -0.296631        -0.012391   \n",
       "\n",
       "   >50 gatherings 56  >50 gatherings 78  >500 gatherings 56  \\\n",
       "0          -0.161645          -0.607163           -0.200611   \n",
       "1          -0.072378          -0.607163           -0.111343   \n",
       "2           0.190657           0.392837            0.151691   \n",
       "3          -0.224381          -0.607163           -0.068699   \n",
       "4           0.190657           0.392837            0.151691   \n",
       "\n",
       "   >500 gatherings 78  restaurant dine-in 56  restaurant dine-in 78  \\\n",
       "0           -0.674816              -0.129804              -0.107909   \n",
       "1           -0.674816              -0.050732              -0.107909   \n",
       "2            0.325184              -0.129804              -0.107909   \n",
       "3           -0.674816               0.005851              -0.107909   \n",
       "4            0.325184              -0.129804              -0.107909   \n",
       "\n",
       "   entertainment/gym 56  entertainment/gym 78  \n",
       "0             -0.020641             -0.134241  \n",
       "1             -0.077225             -0.134241  \n",
       "2             -0.156296             -0.134241  \n",
       "3             -0.020641             -0.134241  \n",
       "4             -0.156296             -0.134241  "
      ]
     },
     "execution_count": 10,
     "metadata": {},
     "output_type": "execute_result"
    }
   ],
   "source": [
    "feature_log = (feature_log - feature_log.mean()) / (feature_log.max() - feature_log.min())\n",
    "feature_log.head()"
   ]
  },
  {
   "cell_type": "code",
   "execution_count": 11,
   "metadata": {},
   "outputs": [
    {
     "data": {
      "text/html": [
       "<div>\n",
       "<style scoped>\n",
       "    .dataframe tbody tr th:only-of-type {\n",
       "        vertical-align: middle;\n",
       "    }\n",
       "\n",
       "    .dataframe tbody tr th {\n",
       "        vertical-align: top;\n",
       "    }\n",
       "\n",
       "    .dataframe thead th {\n",
       "        text-align: right;\n",
       "    }\n",
       "</style>\n",
       "<table border=\"1\" class=\"dataframe\">\n",
       "  <thead>\n",
       "    <tr style=\"text-align: right;\">\n",
       "      <th></th>\n",
       "      <th>fips</th>\n",
       "      <th>mask rate</th>\n",
       "      <th>ratio</th>\n",
       "      <th>stay at home 56</th>\n",
       "      <th>stay at home 78</th>\n",
       "      <th>&gt;50 gatherings 56</th>\n",
       "      <th>&gt;50 gatherings 78</th>\n",
       "      <th>&gt;500 gatherings 56</th>\n",
       "      <th>&gt;500 gatherings 78</th>\n",
       "      <th>restaurant dine-in 56</th>\n",
       "      <th>restaurant dine-in 78</th>\n",
       "      <th>entertainment/gym 56</th>\n",
       "      <th>entertainment/gym 78</th>\n",
       "    </tr>\n",
       "  </thead>\n",
       "  <tbody>\n",
       "    <tr>\n",
       "      <th>count</th>\n",
       "      <td>3.034000e+03</td>\n",
       "      <td>3.034000e+03</td>\n",
       "      <td>3.034000e+03</td>\n",
       "      <td>3.034000e+03</td>\n",
       "      <td>3.034000e+03</td>\n",
       "      <td>3.034000e+03</td>\n",
       "      <td>3.034000e+03</td>\n",
       "      <td>3.034000e+03</td>\n",
       "      <td>3.034000e+03</td>\n",
       "      <td>3.034000e+03</td>\n",
       "      <td>3.034000e+03</td>\n",
       "      <td>3.034000e+03</td>\n",
       "      <td>3.034000e+03</td>\n",
       "    </tr>\n",
       "    <tr>\n",
       "      <th>mean</th>\n",
       "      <td>6.623282e-18</td>\n",
       "      <td>1.260271e-15</td>\n",
       "      <td>1.479261e-16</td>\n",
       "      <td>9.657550e-16</td>\n",
       "      <td>-2.126328e-16</td>\n",
       "      <td>3.653867e-14</td>\n",
       "      <td>-1.649819e-15</td>\n",
       "      <td>3.847903e-14</td>\n",
       "      <td>3.238499e-14</td>\n",
       "      <td>5.405513e-15</td>\n",
       "      <td>-8.796889e-17</td>\n",
       "      <td>9.231647e-15</td>\n",
       "      <td>-6.035511e-17</td>\n",
       "    </tr>\n",
       "    <tr>\n",
       "      <th>std</th>\n",
       "      <td>2.767655e-01</td>\n",
       "      <td>1.689614e-01</td>\n",
       "      <td>1.598918e-01</td>\n",
       "      <td>2.927163e-01</td>\n",
       "      <td>1.763772e-01</td>\n",
       "      <td>2.947398e-01</td>\n",
       "      <td>4.874675e-01</td>\n",
       "      <td>2.762278e-01</td>\n",
       "      <td>4.670981e-01</td>\n",
       "      <td>3.406558e-01</td>\n",
       "      <td>3.092045e-01</td>\n",
       "      <td>3.476147e-01</td>\n",
       "      <td>3.390711e-01</td>\n",
       "    </tr>\n",
       "    <tr>\n",
       "      <th>min</th>\n",
       "      <td>-5.335512e-01</td>\n",
       "      <td>-6.447264e-01</td>\n",
       "      <td>-2.554135e-01</td>\n",
       "      <td>-2.966311e-01</td>\n",
       "      <td>-3.584959e-02</td>\n",
       "      <td>-8.093432e-01</td>\n",
       "      <td>-6.071625e-01</td>\n",
       "      <td>-8.483088e-01</td>\n",
       "      <td>-6.748156e-01</td>\n",
       "      <td>-3.726603e-01</td>\n",
       "      <td>-1.079092e-01</td>\n",
       "      <td>-3.991526e-01</td>\n",
       "      <td>-1.342412e-01</td>\n",
       "    </tr>\n",
       "    <tr>\n",
       "      <th>25%</th>\n",
       "      <td>-2.217552e-01</td>\n",
       "      <td>-1.218580e-01</td>\n",
       "      <td>-1.196953e-01</td>\n",
       "      <td>-2.966311e-01</td>\n",
       "      <td>-3.584959e-02</td>\n",
       "      <td>-1.463782e-01</td>\n",
       "      <td>-6.071625e-01</td>\n",
       "      <td>-8.277409e-02</td>\n",
       "      <td>-6.748156e-01</td>\n",
       "      <td>-2.795508e-01</td>\n",
       "      <td>-1.079092e-01</td>\n",
       "      <td>-2.185803e-01</td>\n",
       "      <td>-1.342412e-01</td>\n",
       "    </tr>\n",
       "    <tr>\n",
       "      <th>50%</th>\n",
       "      <td>-2.241466e-02</td>\n",
       "      <td>3.659410e-03</td>\n",
       "      <td>-2.447264e-02</td>\n",
       "      <td>-1.369715e-02</td>\n",
       "      <td>-3.584959e-02</td>\n",
       "      <td>1.906568e-01</td>\n",
       "      <td>3.928375e-01</td>\n",
       "      <td>1.516912e-01</td>\n",
       "      <td>3.251844e-01</td>\n",
       "      <td>-1.298037e-01</td>\n",
       "      <td>-1.079092e-01</td>\n",
       "      <td>-7.722450e-02</td>\n",
       "      <td>-1.342412e-01</td>\n",
       "    </tr>\n",
       "    <tr>\n",
       "      <th>75%</th>\n",
       "      <td>2.673626e-01</td>\n",
       "      <td>1.259690e-01</td>\n",
       "      <td>9.236340e-02</td>\n",
       "      <td>2.883314e-01</td>\n",
       "      <td>-3.584959e-02</td>\n",
       "      <td>1.906568e-01</td>\n",
       "      <td>3.928375e-01</td>\n",
       "      <td>1.516912e-01</td>\n",
       "      <td>3.251844e-01</td>\n",
       "      <td>3.458052e-01</td>\n",
       "      <td>-1.079092e-01</td>\n",
       "      <td>3.378130e-01</td>\n",
       "      <td>-1.342412e-01</td>\n",
       "    </tr>\n",
       "    <tr>\n",
       "      <th>max</th>\n",
       "      <td>4.664488e-01</td>\n",
       "      <td>3.552736e-01</td>\n",
       "      <td>7.445865e-01</td>\n",
       "      <td>7.033689e-01</td>\n",
       "      <td>9.641504e-01</td>\n",
       "      <td>1.906568e-01</td>\n",
       "      <td>3.928375e-01</td>\n",
       "      <td>1.516912e-01</td>\n",
       "      <td>3.251844e-01</td>\n",
       "      <td>6.273397e-01</td>\n",
       "      <td>8.920908e-01</td>\n",
       "      <td>6.008474e-01</td>\n",
       "      <td>8.657588e-01</td>\n",
       "    </tr>\n",
       "  </tbody>\n",
       "</table>\n",
       "</div>"
      ],
      "text/plain": [
       "               fips     mask rate         ratio  stay at home 56  \\\n",
       "count  3.034000e+03  3.034000e+03  3.034000e+03     3.034000e+03   \n",
       "mean   6.623282e-18  1.260271e-15  1.479261e-16     9.657550e-16   \n",
       "std    2.767655e-01  1.689614e-01  1.598918e-01     2.927163e-01   \n",
       "min   -5.335512e-01 -6.447264e-01 -2.554135e-01    -2.966311e-01   \n",
       "25%   -2.217552e-01 -1.218580e-01 -1.196953e-01    -2.966311e-01   \n",
       "50%   -2.241466e-02  3.659410e-03 -2.447264e-02    -1.369715e-02   \n",
       "75%    2.673626e-01  1.259690e-01  9.236340e-02     2.883314e-01   \n",
       "max    4.664488e-01  3.552736e-01  7.445865e-01     7.033689e-01   \n",
       "\n",
       "       stay at home 78  >50 gatherings 56  >50 gatherings 78  \\\n",
       "count     3.034000e+03       3.034000e+03       3.034000e+03   \n",
       "mean     -2.126328e-16       3.653867e-14      -1.649819e-15   \n",
       "std       1.763772e-01       2.947398e-01       4.874675e-01   \n",
       "min      -3.584959e-02      -8.093432e-01      -6.071625e-01   \n",
       "25%      -3.584959e-02      -1.463782e-01      -6.071625e-01   \n",
       "50%      -3.584959e-02       1.906568e-01       3.928375e-01   \n",
       "75%      -3.584959e-02       1.906568e-01       3.928375e-01   \n",
       "max       9.641504e-01       1.906568e-01       3.928375e-01   \n",
       "\n",
       "       >500 gatherings 56  >500 gatherings 78  restaurant dine-in 56  \\\n",
       "count        3.034000e+03        3.034000e+03           3.034000e+03   \n",
       "mean         3.847903e-14        3.238499e-14           5.405513e-15   \n",
       "std          2.762278e-01        4.670981e-01           3.406558e-01   \n",
       "min         -8.483088e-01       -6.748156e-01          -3.726603e-01   \n",
       "25%         -8.277409e-02       -6.748156e-01          -2.795508e-01   \n",
       "50%          1.516912e-01        3.251844e-01          -1.298037e-01   \n",
       "75%          1.516912e-01        3.251844e-01           3.458052e-01   \n",
       "max          1.516912e-01        3.251844e-01           6.273397e-01   \n",
       "\n",
       "       restaurant dine-in 78  entertainment/gym 56  entertainment/gym 78  \n",
       "count           3.034000e+03          3.034000e+03          3.034000e+03  \n",
       "mean           -8.796889e-17          9.231647e-15         -6.035511e-17  \n",
       "std             3.092045e-01          3.476147e-01          3.390711e-01  \n",
       "min            -1.079092e-01         -3.991526e-01         -1.342412e-01  \n",
       "25%            -1.079092e-01         -2.185803e-01         -1.342412e-01  \n",
       "50%            -1.079092e-01         -7.722450e-02         -1.342412e-01  \n",
       "75%            -1.079092e-01          3.378130e-01         -1.342412e-01  \n",
       "max             8.920908e-01          6.008474e-01          8.657588e-01  "
      ]
     },
     "execution_count": 11,
     "metadata": {},
     "output_type": "execute_result"
    }
   ],
   "source": [
    "feature_log.describe()"
   ]
  },
  {
   "cell_type": "code",
   "execution_count": 12,
   "metadata": {},
   "outputs": [
    {
     "data": {
      "text/plain": [
       "{'whiskers': [<matplotlib.lines.Line2D at 0x7fb8626f6d50>,\n",
       "  <matplotlib.lines.Line2D at 0x7fb862704f50>,\n",
       "  <matplotlib.lines.Line2D at 0x7fb862714e50>,\n",
       "  <matplotlib.lines.Line2D at 0x7fb86270bf50>,\n",
       "  <matplotlib.lines.Line2D at 0x7fb862721cd0>,\n",
       "  <matplotlib.lines.Line2D at 0x7fb86269d6d0>,\n",
       "  <matplotlib.lines.Line2D at 0x7fb8626ad5d0>,\n",
       "  <matplotlib.lines.Line2D at 0x7fb8626adad0>,\n",
       "  <matplotlib.lines.Line2D at 0x7fb8626c0990>,\n",
       "  <matplotlib.lines.Line2D at 0x7fb8626c0a50>,\n",
       "  <matplotlib.lines.Line2D at 0x7fb8626d1890>,\n",
       "  <matplotlib.lines.Line2D at 0x7fb8626d1d50>,\n",
       "  <matplotlib.lines.Line2D at 0x7fb85d3c5c50>,\n",
       "  <matplotlib.lines.Line2D at 0x7fb85d3ce610>,\n",
       "  <matplotlib.lines.Line2D at 0x7fb8626d1dd0>,\n",
       "  <matplotlib.lines.Line2D at 0x7fb85d3e1990>,\n",
       "  <matplotlib.lines.Line2D at 0x7fb8626b7f90>,\n",
       "  <matplotlib.lines.Line2D at 0x7fb85d3f2c90>,\n",
       "  <matplotlib.lines.Line2D at 0x7fb85d403a90>,\n",
       "  <matplotlib.lines.Line2D at 0x7fb85d403f90>,\n",
       "  <matplotlib.lines.Line2D at 0x7fb85d414e10>,\n",
       "  <matplotlib.lines.Line2D at 0x7fb85d40cf50>],\n",
       " 'caps': [<matplotlib.lines.Line2D at 0x7fb86270b490>,\n",
       "  <matplotlib.lines.Line2D at 0x7fb86270b990>,\n",
       "  <matplotlib.lines.Line2D at 0x7fb862719850>,\n",
       "  <matplotlib.lines.Line2D at 0x7fb862719d50>,\n",
       "  <matplotlib.lines.Line2D at 0x7fb86269d790>,\n",
       "  <matplotlib.lines.Line2D at 0x7fb86269dc90>,\n",
       "  <matplotlib.lines.Line2D at 0x7fb8626adfd0>,\n",
       "  <matplotlib.lines.Line2D at 0x7fb8626b7510>,\n",
       "  <matplotlib.lines.Line2D at 0x7fb862719dd0>,\n",
       "  <matplotlib.lines.Line2D at 0x7fb86269dc10>,\n",
       "  <matplotlib.lines.Line2D at 0x7fb8626da790>,\n",
       "  <matplotlib.lines.Line2D at 0x7fb8626dac90>,\n",
       "  <matplotlib.lines.Line2D at 0x7fb85d3ceb10>,\n",
       "  <matplotlib.lines.Line2D at 0x7fb85d3ceb90>,\n",
       "  <matplotlib.lines.Line2D at 0x7fb85d3e1e90>,\n",
       "  <matplotlib.lines.Line2D at 0x7fb85d3d9f90>,\n",
       "  <matplotlib.lines.Line2D at 0x7fb85d3f2d10>,\n",
       "  <matplotlib.lines.Line2D at 0x7fb85d3fb6d0>,\n",
       "  <matplotlib.lines.Line2D at 0x7fb85d40c4d0>,\n",
       "  <matplotlib.lines.Line2D at 0x7fb85d40c9d0>,\n",
       "  <matplotlib.lines.Line2D at 0x7fb85d41e850>,\n",
       "  <matplotlib.lines.Line2D at 0x7fb85d41ed50>],\n",
       " 'boxes': [<matplotlib.lines.Line2D at 0x7fb8626f6d10>,\n",
       "  <matplotlib.lines.Line2D at 0x7fb862714950>,\n",
       "  <matplotlib.lines.Line2D at 0x7fb862721c10>,\n",
       "  <matplotlib.lines.Line2D at 0x7fb8626a4c10>,\n",
       "  <matplotlib.lines.Line2D at 0x7fb8626c0510>,\n",
       "  <matplotlib.lines.Line2D at 0x7fb8626d1790>,\n",
       "  <matplotlib.lines.Line2D at 0x7fb85d3c5bd0>,\n",
       "  <matplotlib.lines.Line2D at 0x7fb85d3d9ed0>,\n",
       "  <matplotlib.lines.Line2D at 0x7fb86269df10>,\n",
       "  <matplotlib.lines.Line2D at 0x7fb8626c8e10>,\n",
       "  <matplotlib.lines.Line2D at 0x7fb85d414890>],\n",
       " 'medians': [<matplotlib.lines.Line2D at 0x7fb86270bed0>,\n",
       "  <matplotlib.lines.Line2D at 0x7fb86270be90>,\n",
       "  <matplotlib.lines.Line2D at 0x7fb8626a4690>,\n",
       "  <matplotlib.lines.Line2D at 0x7fb8626b7a10>,\n",
       "  <matplotlib.lines.Line2D at 0x7fb8626c8d90>,\n",
       "  <matplotlib.lines.Line2D at 0x7fb8626dad10>,\n",
       "  <matplotlib.lines.Line2D at 0x7fb85d3d9550>,\n",
       "  <matplotlib.lines.Line2D at 0x7fb85d3e88d0>,\n",
       "  <matplotlib.lines.Line2D at 0x7fb85d3fbbd0>,\n",
       "  <matplotlib.lines.Line2D at 0x7fb85d40ced0>,\n",
       "  <matplotlib.lines.Line2D at 0x7fb85d414e90>],\n",
       " 'fliers': [<matplotlib.lines.Line2D at 0x7fb8626f6bd0>,\n",
       "  <matplotlib.lines.Line2D at 0x7fb862721790>,\n",
       "  <matplotlib.lines.Line2D at 0x7fb8626a4b90>,\n",
       "  <matplotlib.lines.Line2D at 0x7fb8626b7f10>,\n",
       "  <matplotlib.lines.Line2D at 0x7fb8626d1390>,\n",
       "  <matplotlib.lines.Line2D at 0x7fb85d3c56d0>,\n",
       "  <matplotlib.lines.Line2D at 0x7fb85d3d9a50>,\n",
       "  <matplotlib.lines.Line2D at 0x7fb85d3e8dd0>,\n",
       "  <matplotlib.lines.Line2D at 0x7fb8626c0f50>,\n",
       "  <matplotlib.lines.Line2D at 0x7fb85d3e1f10>,\n",
       "  <matplotlib.lines.Line2D at 0x7fb85d425790>],\n",
       " 'means': []}"
      ]
     },
     "execution_count": 12,
     "metadata": {},
     "output_type": "execute_result"
    },
    {
     "data": {
      "image/png": "[encoded data removed]",
      "text/plain": [
       "<Figure size 1080x720 with 1 Axes>"
      ]
     },
     "metadata": {
      "needs_background": "light"
     },
     "output_type": "display_data"
    }
   ],
   "source": [
    "labels = 'mask rate', 'home 56', 'home 78', '>50 56', '>50 78', '>500 56', '>500 78', 'restaurant 56', 'restaurant 78', 'ent/gym 56', 'ent/gym 78'\n",
    "plt.subplots(figsize = (15, 10))\n",
    "plt.boxplot([feature_log['mask rate'], feature_log['stay at home 56'], feature_log['stay at home 78'], \n",
    "             feature_log['>50 gatherings 56'], feature_log['>50 gatherings 78'], feature_log['>500 gatherings 56'], \n",
    "             feature_log['>500 gatherings 78'], feature_log['restaurant dine-in 56'], feature_log['restaurant dine-in 78'], \n",
    "             feature_log['entertainment/gym 56'], feature_log['entertainment/gym 78']], labels = labels)"
   ]
  },
  {
   "cell_type": "code",
   "execution_count": 13,
   "metadata": {},
   "outputs": [],
   "source": [
    "y_reg = feature_log.ratio.values"
   ]
  },
  {
   "cell_type": "code",
   "execution_count": 14,
   "metadata": {},
   "outputs": [
    {
     "data": {
      "text/html": [
       "<div>\n",
       "<style scoped>\n",
       "    .dataframe tbody tr th:only-of-type {\n",
       "        vertical-align: middle;\n",
       "    }\n",
       "\n",
       "    .dataframe tbody tr th {\n",
       "        vertical-align: top;\n",
       "    }\n",
       "\n",
       "    .dataframe thead th {\n",
       "        text-align: right;\n",
       "    }\n",
       "</style>\n",
       "<table border=\"1\" class=\"dataframe\">\n",
       "  <thead>\n",
       "    <tr style=\"text-align: right;\">\n",
       "      <th></th>\n",
       "      <th>mask rate</th>\n",
       "      <th>stay at home 56</th>\n",
       "      <th>stay at home 78</th>\n",
       "      <th>&gt;50 gatherings 56</th>\n",
       "      <th>&gt;50 gatherings 78</th>\n",
       "      <th>&gt;500 gatherings 56</th>\n",
       "      <th>&gt;500 gatherings 78</th>\n",
       "      <th>restaurant dine-in 56</th>\n",
       "      <th>restaurant dine-in 78</th>\n",
       "      <th>entertainment/gym 56</th>\n",
       "      <th>entertainment/gym 78</th>\n",
       "    </tr>\n",
       "  </thead>\n",
       "  <tbody>\n",
       "    <tr>\n",
       "      <th>0</th>\n",
       "      <td>-0.174114</td>\n",
       "      <td>-0.272784</td>\n",
       "      <td>-0.035850</td>\n",
       "      <td>-0.161645</td>\n",
       "      <td>-0.607163</td>\n",
       "      <td>-0.200611</td>\n",
       "      <td>-0.674816</td>\n",
       "      <td>-0.129804</td>\n",
       "      <td>-0.107909</td>\n",
       "      <td>-0.020641</td>\n",
       "      <td>-0.134241</td>\n",
       "    </tr>\n",
       "    <tr>\n",
       "      <th>1</th>\n",
       "      <td>-0.149279</td>\n",
       "      <td>0.025297</td>\n",
       "      <td>-0.035850</td>\n",
       "      <td>-0.072378</td>\n",
       "      <td>-0.607163</td>\n",
       "      <td>-0.111343</td>\n",
       "      <td>-0.674816</td>\n",
       "      <td>-0.050732</td>\n",
       "      <td>-0.107909</td>\n",
       "      <td>-0.077225</td>\n",
       "      <td>-0.134241</td>\n",
       "    </tr>\n",
       "    <tr>\n",
       "      <th>2</th>\n",
       "      <td>0.303949</td>\n",
       "      <td>-0.013697</td>\n",
       "      <td>-0.035850</td>\n",
       "      <td>0.190657</td>\n",
       "      <td>0.392837</td>\n",
       "      <td>0.151691</td>\n",
       "      <td>0.325184</td>\n",
       "      <td>-0.129804</td>\n",
       "      <td>-0.107909</td>\n",
       "      <td>-0.156296</td>\n",
       "      <td>-0.134241</td>\n",
       "    </tr>\n",
       "    <tr>\n",
       "      <th>3</th>\n",
       "      <td>-0.024279</td>\n",
       "      <td>-0.272784</td>\n",
       "      <td>-0.035850</td>\n",
       "      <td>-0.224381</td>\n",
       "      <td>-0.607163</td>\n",
       "      <td>-0.068699</td>\n",
       "      <td>-0.674816</td>\n",
       "      <td>0.005851</td>\n",
       "      <td>-0.107909</td>\n",
       "      <td>-0.020641</td>\n",
       "      <td>-0.134241</td>\n",
       "    </tr>\n",
       "    <tr>\n",
       "      <th>4</th>\n",
       "      <td>-0.095057</td>\n",
       "      <td>-0.296631</td>\n",
       "      <td>-0.012391</td>\n",
       "      <td>0.190657</td>\n",
       "      <td>0.392837</td>\n",
       "      <td>0.151691</td>\n",
       "      <td>0.325184</td>\n",
       "      <td>-0.129804</td>\n",
       "      <td>-0.107909</td>\n",
       "      <td>-0.156296</td>\n",
       "      <td>-0.134241</td>\n",
       "    </tr>\n",
       "  </tbody>\n",
       "</table>\n",
       "</div>"
      ],
      "text/plain": [
       "   mask rate  stay at home 56  stay at home 78  >50 gatherings 56  \\\n",
       "0  -0.174114        -0.272784        -0.035850          -0.161645   \n",
       "1  -0.149279         0.025297        -0.035850          -0.072378   \n",
       "2   0.303949        -0.013697        -0.035850           0.190657   \n",
       "3  -0.024279        -0.272784        -0.035850          -0.224381   \n",
       "4  -0.095057        -0.296631        -0.012391           0.190657   \n",
       "\n",
       "   >50 gatherings 78  >500 gatherings 56  >500 gatherings 78  \\\n",
       "0          -0.607163           -0.200611           -0.674816   \n",
       "1          -0.607163           -0.111343           -0.674816   \n",
       "2           0.392837            0.151691            0.325184   \n",
       "3          -0.607163           -0.068699           -0.674816   \n",
       "4           0.392837            0.151691            0.325184   \n",
       "\n",
       "   restaurant dine-in 56  restaurant dine-in 78  entertainment/gym 56  \\\n",
       "0              -0.129804              -0.107909             -0.020641   \n",
       "1              -0.050732              -0.107909             -0.077225   \n",
       "2              -0.129804              -0.107909             -0.156296   \n",
       "3               0.005851              -0.107909             -0.020641   \n",
       "4              -0.129804              -0.107909             -0.156296   \n",
       "\n",
       "   entertainment/gym 78  \n",
       "0             -0.134241  \n",
       "1             -0.134241  \n",
       "2             -0.134241  \n",
       "3             -0.134241  \n",
       "4             -0.134241  "
      ]
     },
     "execution_count": 14,
     "metadata": {},
     "output_type": "execute_result"
    }
   ],
   "source": [
    "features = feature_log.drop(['fips', 'ratio'],axis=1)\n",
    "features.head()"
   ]
  },
  {
   "cell_type": "code",
   "execution_count": 15,
   "metadata": {},
   "outputs": [],
   "source": [
    "# X_train, X_test, y_train, y_test = train_test_split(feature_filtered.drop(['fips', 'ratio'],axis=1), feature_filtered.ratio.values, test_size = 0.4)"
   ]
  },
  {
   "cell_type": "code",
   "execution_count": 16,
   "metadata": {},
   "outputs": [],
   "source": [
    "X_train, X_test, y_train, y_test = train_test_split(features, y_reg, test_size = 0.4)"
   ]
  },
  {
   "cell_type": "code",
   "execution_count": 17,
   "metadata": {},
   "outputs": [],
   "source": [
    "from sklearn.metrics import r2_score\n",
    "from sklearn.metrics import mean_squared_error"
   ]
  },
  {
   "cell_type": "code",
   "execution_count": 18,
   "metadata": {},
   "outputs": [],
   "source": [
    "def ApplyRegression(model, X_train, X_test, y_train, y_test):\n",
    "    model.fit(X_train, y_train)\n",
    "    y_pred_tr = model.predict(X_train)\n",
    "    print('train r2 score:' + str(r2_score(y_train, y_pred_tr)))\n",
    "    print('train rmse score:' + str(mean_squared_error(y_train, y_pred_tr)))\n",
    "    \n",
    "    y_pred_te = model.predict(X_test)\n",
    "    print('test r2 score:' + str(r2_score(y_test, y_pred_te)))\n",
    "    print('test rmse score:' + str(mean_squared_error(y_test, y_pred_te)))"
   ]
  },
  {
   "cell_type": "code",
   "execution_count": 19,
   "metadata": {},
   "outputs": [
    {
     "name": "stdout",
     "output_type": "stream",
     "text": [
      "LinearRegression\n",
      "train r2 score:0.12707030231041538\n",
      "train rmse score:0.02237946347605016\n",
      "test r2 score:0.132989030361105\n",
      "test rmse score:0.02205236750188935\n"
     ]
    }
   ],
   "source": [
    "print('LinearRegression')\n",
    "from sklearn.linear_model import LinearRegression\n",
    "model = LinearRegression()\n",
    "ApplyRegression(model, X_train, X_test, y_train, y_test)"
   ]
  },
  {
   "cell_type": "code",
   "execution_count": 20,
   "metadata": {},
   "outputs": [
    {
     "name": "stdout",
     "output_type": "stream",
     "text": [
      "RidgeCV\n",
      "train r2 score:0.12701606457239945\n",
      "train rmse score:0.022380853979180212\n",
      "test r2 score:0.1328510352413781\n",
      "test rmse score:0.022055877398765224\n"
     ]
    }
   ],
   "source": [
    "print('RidgeCV')\n",
    "from sklearn.linear_model import RidgeCV\n",
    "model = RidgeCV(alphas = [0.0001, 0.0005, 0.001, 0.01, 0.1, 1, 10])\n",
    "ApplyRegression(model, X_train, X_test, y_train, y_test)"
   ]
  },
  {
   "cell_type": "code",
   "execution_count": 21,
   "metadata": {},
   "outputs": [
    {
     "name": "stdout",
     "output_type": "stream",
     "text": [
      "ElasticNetCV\n",
      "train r2 score:0.12689665909669867\n",
      "train rmse score:0.0223839151999055\n",
      "test r2 score:0.1326896567032091\n",
      "test rmse score:0.022059982051365064\n"
     ]
    }
   ],
   "source": [
    "print('ElasticNetCV')\n",
    "from sklearn.linear_model import ElasticNetCV\n",
    "model = ElasticNetCV(alphas = [0.0001, 0.0005, 0.001, 0.01, 0.1, 1, 10], l1_ratio = [0.01, 0.1, 0.5, 0.9, 0.99], max_iter = 5000)\n",
    "ApplyRegression(model, X_train, X_test, y_train, y_test)"
   ]
  },
  {
   "cell_type": "code",
   "execution_count": 22,
   "metadata": {},
   "outputs": [
    {
     "name": "stdout",
     "output_type": "stream",
     "text": [
      "RandomForestRegressor\n",
      "train r2 score:0.855744107043316\n",
      "train rmse score:0.0036983155644420805\n",
      "test r2 score:0.14227525423249232\n",
      "test rmse score:0.021816173002987056\n"
     ]
    }
   ],
   "source": [
    "print('RandomForestRegressor')\n",
    "from sklearn.ensemble import RandomForestRegressor\n",
    "model = RandomForestRegressor()\n",
    "ApplyRegression(model, X_train, X_test, y_train, y_test)"
   ]
  },
  {
   "cell_type": "code",
   "execution_count": 23,
   "metadata": {},
   "outputs": [
    {
     "name": "stdout",
     "output_type": "stream",
     "text": [
      "GradientBoostingRegressor\n",
      "train r2 score:0.40372532817719264\n",
      "train rmse score:0.015286806343135291\n",
      "test r2 score:0.28765786475771227\n",
      "test rmse score:0.018118375780165882\n"
     ]
    }
   ],
   "source": [
    "print('GradientBoostingRegressor')\n",
    "from sklearn.ensemble import GradientBoostingRegressor\n",
    "model = GradientBoostingRegressor()\n",
    "ApplyRegression(model, X_train, X_test, y_train, y_test)"
   ]
  },
  {
   "cell_type": "code",
   "execution_count": 24,
   "metadata": {},
   "outputs": [
    {
     "name": "stdout",
     "output_type": "stream",
     "text": [
      "SVM\n",
      "\n",
      "\n",
      "linear kernel\n",
      "train r2 score:0.11768800794917833\n",
      "train rmse score:0.02261999912804435\n",
      "test r2 score:0.1243739221021749\n",
      "test rmse score:0.022271492218931415\n",
      "\n",
      "\n",
      "poly kernel\n",
      "train r2 score:0.26206818820020006\n",
      "train rmse score:0.01891849718677086\n",
      "test r2 score:0.22905735489766665\n",
      "test rmse score:0.01960887592893568\n",
      "\n",
      "\n",
      "rbf kernel\n",
      "train r2 score:0.27947412371042335\n",
      "train rmse score:0.018472257931709972\n",
      "test r2 score:0.2376106726715812\n",
      "test rmse score:0.019391322848852546\n"
     ]
    }
   ],
   "source": [
    "print('SVM')\n",
    "from sklearn.svm import SVR\n",
    "print('\\n')\n",
    "print('linear kernel')\n",
    "model = SVR(kernel='linear')\n",
    "ApplyRegression(model, X_train, X_test, y_train, y_test)\n",
    "print('\\n')\n",
    "print('poly kernel')\n",
    "model = SVR(kernel='poly')\n",
    "ApplyRegression(model, X_train, X_test, y_train, y_test)\n",
    "print('\\n')\n",
    "print('rbf kernel')\n",
    "model = SVR(kernel='rbf')\n",
    "ApplyRegression(model, X_train, X_test, y_train, y_test)"
   ]
  },
  {
   "cell_type": "code",
   "execution_count": 25,
   "metadata": {},
   "outputs": [
    {
     "name": "stdout",
     "output_type": "stream",
     "text": [
      "KNeighborsRegressor\n",
      "train r2 score:0.46749908675173346\n",
      "train rmse score:0.013651826453544113\n",
      "test r2 score:0.25480807055180155\n",
      "test rmse score:0.0189539081546777\n"
     ]
    }
   ],
   "source": [
    "print('KNeighborsRegressor')\n",
    "from sklearn.neighbors import KNeighborsRegressor\n",
    "model = KNeighborsRegressor(weights=\"uniform\")\n",
    "ApplyRegression(model, X_train, X_test, y_train, y_test)"
   ]
  },
  {
   "cell_type": "code",
   "execution_count": 26,
   "metadata": {},
   "outputs": [
    {
     "name": "stdout",
     "output_type": "stream",
     "text": [
      "DecisionTreeRegressor\n",
      "train r2 score:0.968979154401176\n",
      "train rmse score:0.0007952872756105305\n",
      "test r2 score:-0.25060306000247734\n",
      "test rmse score:0.03180900731815239\n"
     ]
    }
   ],
   "source": [
    "print('DecisionTreeRegressor')\n",
    "from sklearn.tree import DecisionTreeRegressor\n",
    "model = DecisionTreeRegressor()\n",
    "ApplyRegression(model, X_train, X_test, y_train, y_test)"
   ]
  },
  {
   "cell_type": "markdown",
   "metadata": {},
   "source": [
    "# Classification"
   ]
  },
  {
   "cell_type": "code",
   "execution_count": 27,
   "metadata": {},
   "outputs": [
    {
     "data": {
      "text/html": [
       "<div>\n",
       "<style scoped>\n",
       "    .dataframe tbody tr th:only-of-type {\n",
       "        vertical-align: middle;\n",
       "    }\n",
       "\n",
       "    .dataframe tbody tr th {\n",
       "        vertical-align: top;\n",
       "    }\n",
       "\n",
       "    .dataframe thead th {\n",
       "        text-align: right;\n",
       "    }\n",
       "</style>\n",
       "<table border=\"1\" class=\"dataframe\">\n",
       "  <thead>\n",
       "    <tr style=\"text-align: right;\">\n",
       "      <th></th>\n",
       "      <th>fips</th>\n",
       "      <th>mask rate</th>\n",
       "      <th>surge</th>\n",
       "      <th>stay at home 56</th>\n",
       "      <th>stay at home 78</th>\n",
       "      <th>&gt;50 gatherings 56</th>\n",
       "      <th>&gt;50 gatherings 78</th>\n",
       "      <th>&gt;500 gatherings 56</th>\n",
       "      <th>&gt;500 gatherings 78</th>\n",
       "      <th>restaurant dine-in 56</th>\n",
       "      <th>restaurant dine-in 78</th>\n",
       "      <th>entertainment/gym 56</th>\n",
       "      <th>entertainment/gym 78</th>\n",
       "    </tr>\n",
       "  </thead>\n",
       "  <tbody>\n",
       "    <tr>\n",
       "      <th>0</th>\n",
       "      <td>45001</td>\n",
       "      <td>0.64250</td>\n",
       "      <td>1</td>\n",
       "      <td>0.016667</td>\n",
       "      <td>0.000000</td>\n",
       "      <td>0.566667</td>\n",
       "      <td>0.0</td>\n",
       "      <td>0.566667</td>\n",
       "      <td>0.0</td>\n",
       "      <td>0.183333</td>\n",
       "      <td>0.0</td>\n",
       "      <td>0.300000</td>\n",
       "      <td>0.0</td>\n",
       "    </tr>\n",
       "    <tr>\n",
       "      <th>1</th>\n",
       "      <td>22001</td>\n",
       "      <td>0.65750</td>\n",
       "      <td>1</td>\n",
       "      <td>0.250000</td>\n",
       "      <td>0.000000</td>\n",
       "      <td>0.666667</td>\n",
       "      <td>0.0</td>\n",
       "      <td>0.666667</td>\n",
       "      <td>0.0</td>\n",
       "      <td>0.250000</td>\n",
       "      <td>0.0</td>\n",
       "      <td>0.250000</td>\n",
       "      <td>0.0</td>\n",
       "    </tr>\n",
       "    <tr>\n",
       "      <th>2</th>\n",
       "      <td>51001</td>\n",
       "      <td>0.93125</td>\n",
       "      <td>0</td>\n",
       "      <td>0.216667</td>\n",
       "      <td>0.000000</td>\n",
       "      <td>1.000000</td>\n",
       "      <td>1.0</td>\n",
       "      <td>1.000000</td>\n",
       "      <td>1.0</td>\n",
       "      <td>0.183333</td>\n",
       "      <td>0.0</td>\n",
       "      <td>0.183333</td>\n",
       "      <td>0.0</td>\n",
       "    </tr>\n",
       "    <tr>\n",
       "      <th>3</th>\n",
       "      <td>16001</td>\n",
       "      <td>0.73300</td>\n",
       "      <td>1</td>\n",
       "      <td>0.016667</td>\n",
       "      <td>0.000000</td>\n",
       "      <td>0.500000</td>\n",
       "      <td>0.0</td>\n",
       "      <td>0.716667</td>\n",
       "      <td>0.0</td>\n",
       "      <td>0.300000</td>\n",
       "      <td>0.0</td>\n",
       "      <td>0.300000</td>\n",
       "      <td>0.0</td>\n",
       "    </tr>\n",
       "    <tr>\n",
       "      <th>4</th>\n",
       "      <td>19001</td>\n",
       "      <td>0.69025</td>\n",
       "      <td>0</td>\n",
       "      <td>0.000000</td>\n",
       "      <td>0.016393</td>\n",
       "      <td>1.000000</td>\n",
       "      <td>1.0</td>\n",
       "      <td>1.000000</td>\n",
       "      <td>1.0</td>\n",
       "      <td>0.183333</td>\n",
       "      <td>0.0</td>\n",
       "      <td>0.183333</td>\n",
       "      <td>0.0</td>\n",
       "    </tr>\n",
       "  </tbody>\n",
       "</table>\n",
       "</div>"
      ],
      "text/plain": [
       "    fips  mask rate  surge  stay at home 56  stay at home 78  \\\n",
       "0  45001    0.64250      1         0.016667         0.000000   \n",
       "1  22001    0.65750      1         0.250000         0.000000   \n",
       "2  51001    0.93125      0         0.216667         0.000000   \n",
       "3  16001    0.73300      1         0.016667         0.000000   \n",
       "4  19001    0.69025      0         0.000000         0.016393   \n",
       "\n",
       "   >50 gatherings 56  >50 gatherings 78  >500 gatherings 56  \\\n",
       "0           0.566667                0.0            0.566667   \n",
       "1           0.666667                0.0            0.666667   \n",
       "2           1.000000                1.0            1.000000   \n",
       "3           0.500000                0.0            0.716667   \n",
       "4           1.000000                1.0            1.000000   \n",
       "\n",
       "   >500 gatherings 78  restaurant dine-in 56  restaurant dine-in 78  \\\n",
       "0                 0.0               0.183333                    0.0   \n",
       "1                 0.0               0.250000                    0.0   \n",
       "2                 1.0               0.183333                    0.0   \n",
       "3                 0.0               0.300000                    0.0   \n",
       "4                 1.0               0.183333                    0.0   \n",
       "\n",
       "   entertainment/gym 56  entertainment/gym 78  \n",
       "0              0.300000                   0.0  \n",
       "1              0.250000                   0.0  \n",
       "2              0.183333                   0.0  \n",
       "3              0.300000                   0.0  \n",
       "4              0.183333                   0.0  "
      ]
     },
     "execution_count": 27,
     "metadata": {},
     "output_type": "execute_result"
    }
   ],
   "source": [
    "fts = df_feature.to_dict('dict')\n",
    "for i in fts['ratio']:\n",
    "    if fts['ratio'][i] > 5:\n",
    "        fts['ratio'][i] = 1\n",
    "    else:\n",
    "        fts['ratio'][i] = 0\n",
    "features_clf = pd.DataFrame(fts)\n",
    "features_clf.rename(columns={'ratio':'surge'}, inplace = True)\n",
    "features_clf.head()"
   ]
  },
  {
   "cell_type": "code",
   "execution_count": 28,
   "metadata": {},
   "outputs": [
    {
     "data": {
      "text/html": [
       "<div>\n",
       "<style scoped>\n",
       "    .dataframe tbody tr th:only-of-type {\n",
       "        vertical-align: middle;\n",
       "    }\n",
       "\n",
       "    .dataframe tbody tr th {\n",
       "        vertical-align: top;\n",
       "    }\n",
       "\n",
       "    .dataframe thead th {\n",
       "        text-align: right;\n",
       "    }\n",
       "</style>\n",
       "<table border=\"1\" class=\"dataframe\">\n",
       "  <thead>\n",
       "    <tr style=\"text-align: right;\">\n",
       "      <th></th>\n",
       "      <th>fips</th>\n",
       "      <th>mask rate</th>\n",
       "      <th>surge</th>\n",
       "      <th>stay at home 56</th>\n",
       "      <th>stay at home 78</th>\n",
       "      <th>&gt;50 gatherings 56</th>\n",
       "      <th>&gt;50 gatherings 78</th>\n",
       "      <th>&gt;500 gatherings 56</th>\n",
       "      <th>&gt;500 gatherings 78</th>\n",
       "      <th>restaurant dine-in 56</th>\n",
       "      <th>restaurant dine-in 78</th>\n",
       "      <th>entertainment/gym 56</th>\n",
       "      <th>entertainment/gym 78</th>\n",
       "    </tr>\n",
       "  </thead>\n",
       "  <tbody>\n",
       "    <tr>\n",
       "      <th>count</th>\n",
       "      <td>3041.000000</td>\n",
       "      <td>3041.000000</td>\n",
       "      <td>3041.000000</td>\n",
       "      <td>3041.000000</td>\n",
       "      <td>3041.000000</td>\n",
       "      <td>3041.000000</td>\n",
       "      <td>3041.000000</td>\n",
       "      <td>3041.000000</td>\n",
       "      <td>3041.000000</td>\n",
       "      <td>3041.000000</td>\n",
       "      <td>3041.000000</td>\n",
       "      <td>3041.000000</td>\n",
       "      <td>3041.000000</td>\n",
       "    </tr>\n",
       "    <tr>\n",
       "      <th>mean</th>\n",
       "      <td>30348.783295</td>\n",
       "      <td>0.747597</td>\n",
       "      <td>0.395594</td>\n",
       "      <td>0.254576</td>\n",
       "      <td>0.034701</td>\n",
       "      <td>0.785295</td>\n",
       "      <td>0.606094</td>\n",
       "      <td>0.829617</td>\n",
       "      <td>0.673177</td>\n",
       "      <td>0.333180</td>\n",
       "      <td>0.107444</td>\n",
       "      <td>0.359098</td>\n",
       "      <td>0.133530</td>\n",
       "    </tr>\n",
       "    <tr>\n",
       "      <th>std</th>\n",
       "      <td>15232.455309</td>\n",
       "      <td>0.101978</td>\n",
       "      <td>0.489058</td>\n",
       "      <td>0.270988</td>\n",
       "      <td>0.176275</td>\n",
       "      <td>0.315685</td>\n",
       "      <td>0.487703</td>\n",
       "      <td>0.294181</td>\n",
       "      <td>0.468096</td>\n",
       "      <td>0.340795</td>\n",
       "      <td>0.308892</td>\n",
       "      <td>0.349751</td>\n",
       "      <td>0.338815</td>\n",
       "    </tr>\n",
       "    <tr>\n",
       "      <th>min</th>\n",
       "      <td>1001.000000</td>\n",
       "      <td>0.358250</td>\n",
       "      <td>0.000000</td>\n",
       "      <td>0.000000</td>\n",
       "      <td>0.000000</td>\n",
       "      <td>0.000000</td>\n",
       "      <td>0.000000</td>\n",
       "      <td>0.000000</td>\n",
       "      <td>0.000000</td>\n",
       "      <td>0.000000</td>\n",
       "      <td>0.000000</td>\n",
       "      <td>0.000000</td>\n",
       "      <td>0.000000</td>\n",
       "    </tr>\n",
       "    <tr>\n",
       "      <th>25%</th>\n",
       "      <td>18157.000000</td>\n",
       "      <td>0.674000</td>\n",
       "      <td>0.000000</td>\n",
       "      <td>0.000000</td>\n",
       "      <td>0.000000</td>\n",
       "      <td>0.583333</td>\n",
       "      <td>0.000000</td>\n",
       "      <td>0.700000</td>\n",
       "      <td>0.000000</td>\n",
       "      <td>0.066667</td>\n",
       "      <td>0.000000</td>\n",
       "      <td>0.133333</td>\n",
       "      <td>0.000000</td>\n",
       "    </tr>\n",
       "    <tr>\n",
       "      <th>50%</th>\n",
       "      <td>29131.000000</td>\n",
       "      <td>0.749750</td>\n",
       "      <td>0.000000</td>\n",
       "      <td>0.216667</td>\n",
       "      <td>0.000000</td>\n",
       "      <td>1.000000</td>\n",
       "      <td>1.000000</td>\n",
       "      <td>1.000000</td>\n",
       "      <td>1.000000</td>\n",
       "      <td>0.183333</td>\n",
       "      <td>0.000000</td>\n",
       "      <td>0.250000</td>\n",
       "      <td>0.000000</td>\n",
       "    </tr>\n",
       "    <tr>\n",
       "      <th>75%</th>\n",
       "      <td>45085.000000</td>\n",
       "      <td>0.823750</td>\n",
       "      <td>1.000000</td>\n",
       "      <td>0.500000</td>\n",
       "      <td>0.000000</td>\n",
       "      <td>1.000000</td>\n",
       "      <td>1.000000</td>\n",
       "      <td>1.000000</td>\n",
       "      <td>1.000000</td>\n",
       "      <td>0.583333</td>\n",
       "      <td>0.000000</td>\n",
       "      <td>0.666667</td>\n",
       "      <td>0.000000</td>\n",
       "    </tr>\n",
       "    <tr>\n",
       "      <th>max</th>\n",
       "      <td>56045.000000</td>\n",
       "      <td>0.962250</td>\n",
       "      <td>1.000000</td>\n",
       "      <td>1.000000</td>\n",
       "      <td>1.000000</td>\n",
       "      <td>1.000000</td>\n",
       "      <td>1.000000</td>\n",
       "      <td>1.000000</td>\n",
       "      <td>1.000000</td>\n",
       "      <td>1.000000</td>\n",
       "      <td>1.000000</td>\n",
       "      <td>1.000000</td>\n",
       "      <td>1.000000</td>\n",
       "    </tr>\n",
       "  </tbody>\n",
       "</table>\n",
       "</div>"
      ],
      "text/plain": [
       "               fips    mask rate        surge  stay at home 56  \\\n",
       "count   3041.000000  3041.000000  3041.000000      3041.000000   \n",
       "mean   30348.783295     0.747597     0.395594         0.254576   \n",
       "std    15232.455309     0.101978     0.489058         0.270988   \n",
       "min     1001.000000     0.358250     0.000000         0.000000   \n",
       "25%    18157.000000     0.674000     0.000000         0.000000   \n",
       "50%    29131.000000     0.749750     0.000000         0.216667   \n",
       "75%    45085.000000     0.823750     1.000000         0.500000   \n",
       "max    56045.000000     0.962250     1.000000         1.000000   \n",
       "\n",
       "       stay at home 78  >50 gatherings 56  >50 gatherings 78  \\\n",
       "count      3041.000000        3041.000000        3041.000000   \n",
       "mean          0.034701           0.785295           0.606094   \n",
       "std           0.176275           0.315685           0.487703   \n",
       "min           0.000000           0.000000           0.000000   \n",
       "25%           0.000000           0.583333           0.000000   \n",
       "50%           0.000000           1.000000           1.000000   \n",
       "75%           0.000000           1.000000           1.000000   \n",
       "max           1.000000           1.000000           1.000000   \n",
       "\n",
       "       >500 gatherings 56  >500 gatherings 78  restaurant dine-in 56  \\\n",
       "count         3041.000000         3041.000000            3041.000000   \n",
       "mean             0.829617            0.673177               0.333180   \n",
       "std              0.294181            0.468096               0.340795   \n",
       "min              0.000000            0.000000               0.000000   \n",
       "25%              0.700000            0.000000               0.066667   \n",
       "50%              1.000000            1.000000               0.183333   \n",
       "75%              1.000000            1.000000               0.583333   \n",
       "max              1.000000            1.000000               1.000000   \n",
       "\n",
       "       restaurant dine-in 78  entertainment/gym 56  entertainment/gym 78  \n",
       "count            3041.000000           3041.000000           3041.000000  \n",
       "mean                0.107444              0.359098              0.133530  \n",
       "std                 0.308892              0.349751              0.338815  \n",
       "min                 0.000000              0.000000              0.000000  \n",
       "25%                 0.000000              0.133333              0.000000  \n",
       "50%                 0.000000              0.250000              0.000000  \n",
       "75%                 0.000000              0.666667              0.000000  \n",
       "max                 1.000000              1.000000              1.000000  "
      ]
     },
     "execution_count": 28,
     "metadata": {},
     "output_type": "execute_result"
    }
   ],
   "source": [
    "features_clf.describe()"
   ]
  },
  {
   "cell_type": "code",
   "execution_count": 29,
   "metadata": {},
   "outputs": [],
   "source": [
    "y_clf = features_clf.surge.values"
   ]
  },
  {
   "cell_type": "code",
   "execution_count": 30,
   "metadata": {},
   "outputs": [
    {
     "data": {
      "text/html": [
       "<div>\n",
       "<style scoped>\n",
       "    .dataframe tbody tr th:only-of-type {\n",
       "        vertical-align: middle;\n",
       "    }\n",
       "\n",
       "    .dataframe tbody tr th {\n",
       "        vertical-align: top;\n",
       "    }\n",
       "\n",
       "    .dataframe thead th {\n",
       "        text-align: right;\n",
       "    }\n",
       "</style>\n",
       "<table border=\"1\" class=\"dataframe\">\n",
       "  <thead>\n",
       "    <tr style=\"text-align: right;\">\n",
       "      <th></th>\n",
       "      <th>mask rate</th>\n",
       "      <th>stay at home 56</th>\n",
       "      <th>stay at home 78</th>\n",
       "      <th>&gt;50 gatherings 56</th>\n",
       "      <th>&gt;50 gatherings 78</th>\n",
       "      <th>&gt;500 gatherings 56</th>\n",
       "      <th>&gt;500 gatherings 78</th>\n",
       "      <th>restaurant dine-in 56</th>\n",
       "      <th>restaurant dine-in 78</th>\n",
       "      <th>entertainment/gym 56</th>\n",
       "      <th>entertainment/gym 78</th>\n",
       "    </tr>\n",
       "  </thead>\n",
       "  <tbody>\n",
       "    <tr>\n",
       "      <th>0</th>\n",
       "      <td>0.64250</td>\n",
       "      <td>0.016667</td>\n",
       "      <td>0.000000</td>\n",
       "      <td>0.566667</td>\n",
       "      <td>0.0</td>\n",
       "      <td>0.566667</td>\n",
       "      <td>0.0</td>\n",
       "      <td>0.183333</td>\n",
       "      <td>0.0</td>\n",
       "      <td>0.300000</td>\n",
       "      <td>0.0</td>\n",
       "    </tr>\n",
       "    <tr>\n",
       "      <th>1</th>\n",
       "      <td>0.65750</td>\n",
       "      <td>0.250000</td>\n",
       "      <td>0.000000</td>\n",
       "      <td>0.666667</td>\n",
       "      <td>0.0</td>\n",
       "      <td>0.666667</td>\n",
       "      <td>0.0</td>\n",
       "      <td>0.250000</td>\n",
       "      <td>0.0</td>\n",
       "      <td>0.250000</td>\n",
       "      <td>0.0</td>\n",
       "    </tr>\n",
       "    <tr>\n",
       "      <th>2</th>\n",
       "      <td>0.93125</td>\n",
       "      <td>0.216667</td>\n",
       "      <td>0.000000</td>\n",
       "      <td>1.000000</td>\n",
       "      <td>1.0</td>\n",
       "      <td>1.000000</td>\n",
       "      <td>1.0</td>\n",
       "      <td>0.183333</td>\n",
       "      <td>0.0</td>\n",
       "      <td>0.183333</td>\n",
       "      <td>0.0</td>\n",
       "    </tr>\n",
       "    <tr>\n",
       "      <th>3</th>\n",
       "      <td>0.73300</td>\n",
       "      <td>0.016667</td>\n",
       "      <td>0.000000</td>\n",
       "      <td>0.500000</td>\n",
       "      <td>0.0</td>\n",
       "      <td>0.716667</td>\n",
       "      <td>0.0</td>\n",
       "      <td>0.300000</td>\n",
       "      <td>0.0</td>\n",
       "      <td>0.300000</td>\n",
       "      <td>0.0</td>\n",
       "    </tr>\n",
       "    <tr>\n",
       "      <th>4</th>\n",
       "      <td>0.69025</td>\n",
       "      <td>0.000000</td>\n",
       "      <td>0.016393</td>\n",
       "      <td>1.000000</td>\n",
       "      <td>1.0</td>\n",
       "      <td>1.000000</td>\n",
       "      <td>1.0</td>\n",
       "      <td>0.183333</td>\n",
       "      <td>0.0</td>\n",
       "      <td>0.183333</td>\n",
       "      <td>0.0</td>\n",
       "    </tr>\n",
       "  </tbody>\n",
       "</table>\n",
       "</div>"
      ],
      "text/plain": [
       "   mask rate  stay at home 56  stay at home 78  >50 gatherings 56  \\\n",
       "0    0.64250         0.016667         0.000000           0.566667   \n",
       "1    0.65750         0.250000         0.000000           0.666667   \n",
       "2    0.93125         0.216667         0.000000           1.000000   \n",
       "3    0.73300         0.016667         0.000000           0.500000   \n",
       "4    0.69025         0.000000         0.016393           1.000000   \n",
       "\n",
       "   >50 gatherings 78  >500 gatherings 56  >500 gatherings 78  \\\n",
       "0                0.0            0.566667                 0.0   \n",
       "1                0.0            0.666667                 0.0   \n",
       "2                1.0            1.000000                 1.0   \n",
       "3                0.0            0.716667                 0.0   \n",
       "4                1.0            1.000000                 1.0   \n",
       "\n",
       "   restaurant dine-in 56  restaurant dine-in 78  entertainment/gym 56  \\\n",
       "0               0.183333                    0.0              0.300000   \n",
       "1               0.250000                    0.0              0.250000   \n",
       "2               0.183333                    0.0              0.183333   \n",
       "3               0.300000                    0.0              0.300000   \n",
       "4               0.183333                    0.0              0.183333   \n",
       "\n",
       "   entertainment/gym 78  \n",
       "0                   0.0  \n",
       "1                   0.0  \n",
       "2                   0.0  \n",
       "3                   0.0  \n",
       "4                   0.0  "
      ]
     },
     "execution_count": 30,
     "metadata": {},
     "output_type": "execute_result"
    }
   ],
   "source": [
    "fts_clf = features_clf.drop(['fips', 'surge'],axis=1)\n",
    "fts_clf.head()"
   ]
  },
  {
   "cell_type": "code",
   "execution_count": 31,
   "metadata": {},
   "outputs": [],
   "source": [
    "X_train_clf, X_test_clf, y_train_clf, y_test_clf = train_test_split(fts_clf, y_clf, test_size = 0.3)"
   ]
  },
  {
   "cell_type": "code",
   "execution_count": 32,
   "metadata": {},
   "outputs": [],
   "source": [
    "# LogisticRegression\n",
    "from sklearn.linear_model import LogisticRegression\n",
    "lr_model = LogisticRegression(C = 1.0, penalty = 'l1', tol = 1e-6, solver='liblinear')\n",
    "lr_model.fit(X_train_clf, y_train_clf)\n",
    "y_lr = lr_model.predict(X_test_clf)\n",
    "#y_lr"
   ]
  },
  {
   "cell_type": "code",
   "execution_count": 33,
   "metadata": {},
   "outputs": [
    {
     "data": {
      "text/plain": [
       "0.6374589266155531"
      ]
     },
     "execution_count": 33,
     "metadata": {},
     "output_type": "execute_result"
    }
   ],
   "source": [
    "lr_model.score(X_test_clf, y_test_clf)"
   ]
  },
  {
   "cell_type": "code",
   "execution_count": 34,
   "metadata": {},
   "outputs": [
    {
     "data": {
      "text/plain": [
       "0.42233856893542754"
      ]
     },
     "execution_count": 34,
     "metadata": {},
     "output_type": "execute_result"
    }
   ],
   "source": [
    "from sklearn.metrics import f1_score\n",
    "f1_score(y_test_clf, y_lr, labels=None, pos_label=1, average='binary', sample_weight=None)"
   ]
  },
  {
   "cell_type": "code",
   "execution_count": 35,
   "metadata": {},
   "outputs": [],
   "source": [
    "# KNN\n",
    "from sklearn import neighbors\n",
    "knn_model = neighbors.KNeighborsClassifier(n_neighbors=3)\n",
    "knn_model.fit(X_train_clf, y_train_clf)\n",
    "y_knn = knn_model.predict(X_test_clf)\n",
    "#y_knn"
   ]
  },
  {
   "cell_type": "code",
   "execution_count": 36,
   "metadata": {},
   "outputs": [
    {
     "data": {
      "text/plain": [
       "0.6615553121577218"
      ]
     },
     "execution_count": 36,
     "metadata": {},
     "output_type": "execute_result"
    }
   ],
   "source": [
    "knn_model.score(X_test_clf, y_test_clf)"
   ]
  },
  {
   "cell_type": "code",
   "execution_count": 37,
   "metadata": {},
   "outputs": [
    {
     "data": {
      "text/plain": [
       "0.5617021276595745"
      ]
     },
     "execution_count": 37,
     "metadata": {},
     "output_type": "execute_result"
    }
   ],
   "source": [
    "f1_score(y_test_clf, y_knn, labels=None, pos_label=1, average='binary', sample_weight=None)"
   ]
  },
  {
   "cell_type": "code",
   "execution_count": 38,
   "metadata": {},
   "outputs": [],
   "source": [
    "# DecisionTree\n",
    "from sklearn.tree import DecisionTreeClassifier\n",
    "dt_model = DecisionTreeClassifier(max_leaf_nodes=8)\n",
    "dt_model.fit(X_train_clf, y_train_clf)\n",
    "y_dt = dt_model.predict(X_test_clf)\n",
    "#y_dt"
   ]
  },
  {
   "cell_type": "code",
   "execution_count": 39,
   "metadata": {},
   "outputs": [
    {
     "data": {
      "text/plain": [
       "0.6549835706462213"
      ]
     },
     "execution_count": 39,
     "metadata": {},
     "output_type": "execute_result"
    }
   ],
   "source": [
    "dt_model.score(X_test_clf, y_test_clf)"
   ]
  },
  {
   "cell_type": "code",
   "execution_count": 40,
   "metadata": {},
   "outputs": [
    {
     "data": {
      "text/plain": [
       "0.5827814569536425"
      ]
     },
     "execution_count": 40,
     "metadata": {},
     "output_type": "execute_result"
    }
   ],
   "source": [
    "f1_score(y_test_clf, y_dt, labels=None, pos_label=1, average='binary', sample_weight=None)"
   ]
  },
  {
   "cell_type": "code",
   "execution_count": 41,
   "metadata": {},
   "outputs": [],
   "source": [
    "# RandomForest\n",
    "from sklearn.ensemble import RandomForestClassifier\n",
    "rfc_model = RandomForestClassifier()\n",
    "rfc_model.fit(X_train_clf, y_train_clf)\n",
    "y_rfc = rfc_model.predict(X_test_clf)\n",
    "#y_rfc"
   ]
  },
  {
   "cell_type": "code",
   "execution_count": 42,
   "metadata": {},
   "outputs": [
    {
     "data": {
      "text/plain": [
       "0.6210295728368017"
      ]
     },
     "execution_count": 42,
     "metadata": {},
     "output_type": "execute_result"
    }
   ],
   "source": [
    "rfc_model.score(X_test_clf, y_test_clf)"
   ]
  },
  {
   "cell_type": "code",
   "execution_count": 43,
   "metadata": {},
   "outputs": [
    {
     "data": {
      "text/plain": [
       "0.5140449438202247"
      ]
     },
     "execution_count": 43,
     "metadata": {},
     "output_type": "execute_result"
    }
   ],
   "source": [
    "f1_score(y_test_clf, y_rfc, labels=None, pos_label=1, average='binary', sample_weight=None)"
   ]
  },
  {
   "cell_type": "code",
   "execution_count": 44,
   "metadata": {},
   "outputs": [],
   "source": [
    "# SVM\n",
    "from sklearn.svm import SVC\n",
    "svm_model=SVC(kernel='rbf')\n",
    "svm_model.fit(X_train_clf, y_train_clf)\n",
    "y_svm = svm_model.predict(X_test_clf)\n",
    "#y_svm"
   ]
  },
  {
   "cell_type": "code",
   "execution_count": 45,
   "metadata": {},
   "outputs": [
    {
     "data": {
      "text/plain": [
       "0.6746987951807228"
      ]
     },
     "execution_count": 45,
     "metadata": {},
     "output_type": "execute_result"
    }
   ],
   "source": [
    "svm_model.score(X_test_clf, y_test_clf)"
   ]
  },
  {
   "cell_type": "code",
   "execution_count": 46,
   "metadata": {},
   "outputs": [
    {
     "data": {
      "text/plain": [
       "0.5041736227045075"
      ]
     },
     "execution_count": 46,
     "metadata": {},
     "output_type": "execute_result"
    }
   ],
   "source": [
    "f1_score(y_test_clf, y_svm, labels=None, pos_label=1, average='binary', sample_weight=None)"
   ]
  },
  {
   "cell_type": "code",
   "execution_count": 47,
   "metadata": {},
   "outputs": [],
   "source": [
    "# model ensemble\n",
    "y_en = []\n",
    "for i in range(len(y_test_clf)):\n",
    "    y_en.append(stats.mode([y_lr[i], y_knn[i], y_dt[i], y_rfc[i], y_svm[i]])[0][0])"
   ]
  },
  {
   "cell_type": "code",
   "execution_count": 48,
   "metadata": {},
   "outputs": [
    {
     "name": "stdout",
     "output_type": "stream",
     "text": [
      "Accuracy: 0.6812705366922234\n"
     ]
    }
   ],
   "source": [
    "mis_clf = 0\n",
    "for i in range(len(y_test_clf)):\n",
    "    if y_test_clf[i] != y_en[i]:\n",
    "        mis_clf += 1\n",
    "accuracy = 1 - (mis_clf / len(y_en))\n",
    "print('Accuracy:', accuracy)"
   ]
  },
  {
   "cell_type": "code",
   "execution_count": 49,
   "metadata": {},
   "outputs": [
    {
     "data": {
      "text/plain": [
       "0.5417322834645669"
      ]
     },
     "execution_count": 49,
     "metadata": {},
     "output_type": "execute_result"
    }
   ],
   "source": [
    "f1_score(y_test_clf, y_en, labels=None, pos_label=1, average='binary', sample_weight=None)"
   ]
  },
  {
   "cell_type": "markdown",
   "metadata": {},
   "source": [
    "### After Cluster"
   ]
  },
  {
   "cell_type": "code",
   "execution_count": 1,
   "metadata": {},
   "outputs": [],
   "source": [
    "import pandas as pd\n",
    "import sklearn\n",
    "from sklearn import preprocessing\n",
    "from sklearn.cluster import KMeans\n",
    "import matplotlib.pyplot as plt"
   ]
  },
  {
   "cell_type": "code",
   "execution_count": 2,
   "metadata": {},
   "outputs": [],
   "source": [
    "data = pd.read_csv('./final_data.csv')"
   ]
  },
  {
   "cell_type": "code",
   "execution_count": 3,
   "metadata": {},
   "outputs": [
    {
     "data": {
      "text/html": [
       "<div>\n",
       "<style scoped>\n",
       "    .dataframe tbody tr th:only-of-type {\n",
       "        vertical-align: middle;\n",
       "    }\n",
       "\n",
       "    .dataframe tbody tr th {\n",
       "        vertical-align: top;\n",
       "    }\n",
       "\n",
       "    .dataframe thead th {\n",
       "        text-align: right;\n",
       "    }\n",
       "</style>\n",
       "<table border=\"1\" class=\"dataframe\">\n",
       "  <thead>\n",
       "    <tr style=\"text-align: right;\">\n",
       "      <th></th>\n",
       "      <th>Unnamed: 0</th>\n",
       "      <th>fips</th>\n",
       "      <th>county</th>\n",
       "      <th>cases_sum_56</th>\n",
       "      <th>mask rate</th>\n",
       "      <th>ratio</th>\n",
       "      <th>stay at home 56</th>\n",
       "      <th>stay at home 78</th>\n",
       "      <th>&gt;50 gatherings 56</th>\n",
       "      <th>&gt;50 gatherings 78</th>\n",
       "      <th>...</th>\n",
       "      <th>restaurant dine-in 56</th>\n",
       "      <th>restaurant dine-in 78</th>\n",
       "      <th>entertainment/gym 56</th>\n",
       "      <th>entertainment/gym 78</th>\n",
       "      <th>public schools 56</th>\n",
       "      <th>public schools 78</th>\n",
       "      <th>federal guidelines 56</th>\n",
       "      <th>federal guidelines 78</th>\n",
       "      <th>foreign travel ban 56</th>\n",
       "      <th>foreign travel ban 78</th>\n",
       "    </tr>\n",
       "  </thead>\n",
       "  <tbody>\n",
       "    <tr>\n",
       "      <th>0</th>\n",
       "      <td>0</td>\n",
       "      <td>45001</td>\n",
       "      <td>Abbeville</td>\n",
       "      <td>3267</td>\n",
       "      <td>0.64250</td>\n",
       "      <td>5.216100</td>\n",
       "      <td>0</td>\n",
       "      <td>0</td>\n",
       "      <td>1</td>\n",
       "      <td>0</td>\n",
       "      <td>...</td>\n",
       "      <td>0</td>\n",
       "      <td>0</td>\n",
       "      <td>0</td>\n",
       "      <td>0</td>\n",
       "      <td>1</td>\n",
       "      <td>1</td>\n",
       "      <td>1</td>\n",
       "      <td>1</td>\n",
       "      <td>1</td>\n",
       "      <td>1</td>\n",
       "    </tr>\n",
       "    <tr>\n",
       "      <th>1</th>\n",
       "      <td>1</td>\n",
       "      <td>22001</td>\n",
       "      <td>Acadia</td>\n",
       "      <td>25571</td>\n",
       "      <td>0.65750</td>\n",
       "      <td>5.159126</td>\n",
       "      <td>0</td>\n",
       "      <td>0</td>\n",
       "      <td>1</td>\n",
       "      <td>0</td>\n",
       "      <td>...</td>\n",
       "      <td>0</td>\n",
       "      <td>0</td>\n",
       "      <td>0</td>\n",
       "      <td>0</td>\n",
       "      <td>1</td>\n",
       "      <td>1</td>\n",
       "      <td>1</td>\n",
       "      <td>1</td>\n",
       "      <td>1</td>\n",
       "      <td>1</td>\n",
       "    </tr>\n",
       "    <tr>\n",
       "      <th>2</th>\n",
       "      <td>2</td>\n",
       "      <td>51001</td>\n",
       "      <td>Accomack</td>\n",
       "      <td>49157</td>\n",
       "      <td>0.93125</td>\n",
       "      <td>1.366825</td>\n",
       "      <td>0</td>\n",
       "      <td>0</td>\n",
       "      <td>1</td>\n",
       "      <td>1</td>\n",
       "      <td>...</td>\n",
       "      <td>0</td>\n",
       "      <td>0</td>\n",
       "      <td>0</td>\n",
       "      <td>0</td>\n",
       "      <td>1</td>\n",
       "      <td>1</td>\n",
       "      <td>1</td>\n",
       "      <td>1</td>\n",
       "      <td>1</td>\n",
       "      <td>1</td>\n",
       "    </tr>\n",
       "  </tbody>\n",
       "</table>\n",
       "<p>3 rows × 22 columns</p>\n",
       "</div>"
      ],
      "text/plain": [
       "   Unnamed: 0   fips     county  cases_sum_56  mask rate     ratio  \\\n",
       "0           0  45001  Abbeville          3267    0.64250  5.216100   \n",
       "1           1  22001     Acadia         25571    0.65750  5.159126   \n",
       "2           2  51001   Accomack         49157    0.93125  1.366825   \n",
       "\n",
       "   stay at home 56  stay at home 78  >50 gatherings 56  >50 gatherings 78  \\\n",
       "0                0                0                  1                  0   \n",
       "1                0                0                  1                  0   \n",
       "2                0                0                  1                  1   \n",
       "\n",
       "   ...  restaurant dine-in 56  restaurant dine-in 78  entertainment/gym 56  \\\n",
       "0  ...                      0                      0                     0   \n",
       "1  ...                      0                      0                     0   \n",
       "2  ...                      0                      0                     0   \n",
       "\n",
       "   entertainment/gym 78  public schools 56  public schools 78  \\\n",
       "0                     0                  1                  1   \n",
       "1                     0                  1                  1   \n",
       "2                     0                  1                  1   \n",
       "\n",
       "   federal guidelines 56  federal guidelines 78  foreign travel ban 56  \\\n",
       "0                      1                      1                      1   \n",
       "1                      1                      1                      1   \n",
       "2                      1                      1                      1   \n",
       "\n",
       "   foreign travel ban 78  \n",
       "0                      1  \n",
       "1                      1  \n",
       "2                      1  \n",
       "\n",
       "[3 rows x 22 columns]"
      ]
     },
     "execution_count": 3,
     "metadata": {},
     "output_type": "execute_result"
    }
   ],
   "source": [
    "data.head(3)"
   ]
  },
  {
   "cell_type": "code",
   "execution_count": 4,
   "metadata": {},
   "outputs": [
    {
     "data": {
      "text/plain": [
       "Index(['Unnamed: 0', 'fips', 'county', 'cases_sum_56', 'mask rate', 'ratio',\n",
       "       'stay at home 56', 'stay at home 78', '>50 gatherings 56',\n",
       "       '>50 gatherings 78', '>500 gatherings 56', '>500 gatherings 78',\n",
       "       'restaurant dine-in 56', 'restaurant dine-in 78',\n",
       "       'entertainment/gym 56', 'entertainment/gym 78', 'public schools 56',\n",
       "       'public schools 78', 'federal guidelines 56', 'federal guidelines 78',\n",
       "       'foreign travel ban 56', 'foreign travel ban 78'],\n",
       "      dtype='object')"
      ]
     },
     "execution_count": 4,
     "metadata": {},
     "output_type": "execute_result"
    }
   ],
   "source": [
    "data.columns"
   ]
  },
  {
   "cell_type": "code",
   "execution_count": 5,
   "metadata": {},
   "outputs": [],
   "source": [
    "mask_use = data[['fips','county','mask rate','ratio']]\n",
    "feature_56 = data[['county','stay at home 56','>50 gatherings 56','>500 gatherings 56','restaurant dine-in 56','entertainment/gym 56']]"
   ]
  },
  {
   "cell_type": "code",
   "execution_count": 6,
   "metadata": {},
   "outputs": [],
   "source": [
    "feature_56 = feature_56.set_index('county')\n",
    "feature_56 = pd.DataFrame(feature_56)"
   ]
  },
  {
   "cell_type": "code",
   "execution_count": 7,
   "metadata": {},
   "outputs": [
    {
     "data": {
      "text/plain": [
       "(2934, 5)"
      ]
     },
     "execution_count": 7,
     "metadata": {},
     "output_type": "execute_result"
    }
   ],
   "source": [
    "feature_56.shape"
   ]
  },
  {
   "cell_type": "code",
   "execution_count": 8,
   "metadata": {},
   "outputs": [],
   "source": [
    "maxClusters = 5\n",
    "sse = []\n",
    "for nClusters in range(2,maxClusters):\n",
    "    kmeans = KMeans(n_clusters=nClusters, random_state=0).fit(feature_56)\n",
    "    sse.append(kmeans.inertia_)"
   ]
  },
  {
   "cell_type": "code",
   "execution_count": 9,
   "metadata": {},
   "outputs": [
    {
     "data": {
      "text/plain": [
       "[<matplotlib.lines.Line2D at 0x7f412213c250>]"
      ]
     },
     "execution_count": 9,
     "metadata": {},
     "output_type": "execute_result"
    },
    {
     "data": {
      "image/png": "[encoded data removed]",
      "text/plain": [
       "<Figure size 432x288 with 1 Axes>"
      ]
     },
     "metadata": {
      "needs_background": "light"
     },
     "output_type": "display_data"
    }
   ],
   "source": [
    "plt.plot(range(2,maxClusters),sse)"
   ]
  },
  {
   "cell_type": "code",
   "execution_count": 13,
   "metadata": {},
   "outputs": [],
   "source": [
    "t= preprocessing.StandardScaler().fit(feature_56)\n",
    "cluster_df=t.transform(feature_56)"
   ]
  },
  {
   "cell_type": "code",
   "execution_count": 14,
   "metadata": {},
   "outputs": [],
   "source": [
    "res = KMeans(random_state=0,n_clusters=3).fit(feature_56)"
   ]
  },
  {
   "cell_type": "code",
   "execution_count": 15,
   "metadata": {},
   "outputs": [],
   "source": [
    "feature_56['lable'] = res.labels_"
   ]
  },
  {
   "cell_type": "code",
   "execution_count": 16,
   "metadata": {},
   "outputs": [
    {
     "data": {
      "text/html": [
       "<div>\n",
       "<style scoped>\n",
       "    .dataframe tbody tr th:only-of-type {\n",
       "        vertical-align: middle;\n",
       "    }\n",
       "\n",
       "    .dataframe tbody tr th {\n",
       "        vertical-align: top;\n",
       "    }\n",
       "\n",
       "    .dataframe thead th {\n",
       "        text-align: right;\n",
       "    }\n",
       "</style>\n",
       "<table border=\"1\" class=\"dataframe\">\n",
       "  <thead>\n",
       "    <tr style=\"text-align: right;\">\n",
       "      <th></th>\n",
       "      <th>stay at home 56</th>\n",
       "      <th>&gt;50 gatherings 56</th>\n",
       "      <th>&gt;500 gatherings 56</th>\n",
       "      <th>restaurant dine-in 56</th>\n",
       "      <th>entertainment/gym 56</th>\n",
       "      <th>lable</th>\n",
       "    </tr>\n",
       "    <tr>\n",
       "      <th>county</th>\n",
       "      <th></th>\n",
       "      <th></th>\n",
       "      <th></th>\n",
       "      <th></th>\n",
       "      <th></th>\n",
       "      <th></th>\n",
       "    </tr>\n",
       "  </thead>\n",
       "  <tbody>\n",
       "    <tr>\n",
       "      <th>Abbeville</th>\n",
       "      <td>0</td>\n",
       "      <td>1</td>\n",
       "      <td>1</td>\n",
       "      <td>0</td>\n",
       "      <td>0</td>\n",
       "      <td>0</td>\n",
       "    </tr>\n",
       "    <tr>\n",
       "      <th>Acadia</th>\n",
       "      <td>0</td>\n",
       "      <td>1</td>\n",
       "      <td>1</td>\n",
       "      <td>0</td>\n",
       "      <td>0</td>\n",
       "      <td>0</td>\n",
       "    </tr>\n",
       "    <tr>\n",
       "      <th>Accomack</th>\n",
       "      <td>0</td>\n",
       "      <td>1</td>\n",
       "      <td>1</td>\n",
       "      <td>0</td>\n",
       "      <td>0</td>\n",
       "      <td>0</td>\n",
       "    </tr>\n",
       "  </tbody>\n",
       "</table>\n",
       "</div>"
      ],
      "text/plain": [
       "           stay at home 56  >50 gatherings 56  >500 gatherings 56  \\\n",
       "county                                                              \n",
       "Abbeville                0                  1                   1   \n",
       "Acadia                   0                  1                   1   \n",
       "Accomack                 0                  1                   1   \n",
       "\n",
       "           restaurant dine-in 56  entertainment/gym 56  lable  \n",
       "county                                                         \n",
       "Abbeville                      0                     0      0  \n",
       "Acadia                         0                     0      0  \n",
       "Accomack                       0                     0      0  "
      ]
     },
     "execution_count": 16,
     "metadata": {},
     "output_type": "execute_result"
    }
   ],
   "source": [
    "feature_56.head(3)"
   ]
  },
  {
   "cell_type": "code",
   "execution_count": 17,
   "metadata": {},
   "outputs": [],
   "source": [
    "mask = mask_use[['county','mask rate','ratio']]\n",
    "mask = mask.set_index('county')"
   ]
  },
  {
   "cell_type": "code",
   "execution_count": 18,
   "metadata": {},
   "outputs": [],
   "source": [
    "maxClusters = 5\n",
    "sse1 = []\n",
    "for nClusters in range(2,maxClusters):\n",
    "    kmeans = KMeans(n_clusters=nClusters, random_state=0).fit(mask)\n",
    "    sse1.append(kmeans.inertia_)"
   ]
  },
  {
   "cell_type": "code",
   "execution_count": 19,
   "metadata": {},
   "outputs": [
    {
     "data": {
      "text/plain": [
       "[<matplotlib.lines.Line2D at 0x7f4121ff28d0>]"
      ]
     },
     "execution_count": 19,
     "metadata": {},
     "output_type": "execute_result"
    },
    {
     "data": {
      "image/png": "[encoded data removed]",
      "text/plain": [
       "<Figure size 432x288 with 1 Axes>"
      ]
     },
     "metadata": {
      "needs_background": "light"
     },
     "output_type": "display_data"
    }
   ],
   "source": [
    "plt.plot(range(2,maxClusters),sse1)"
   ]
  },
  {
   "cell_type": "code",
   "execution_count": 20,
   "metadata": {},
   "outputs": [],
   "source": [
    "kmeans = KMeans(n_clusters=3, random_state=0).fit(mask)"
   ]
  },
  {
   "cell_type": "code",
   "execution_count": 21,
   "metadata": {},
   "outputs": [],
   "source": [
    "mask['lable'] = kmeans.labels_"
   ]
  },
  {
   "cell_type": "code",
   "execution_count": 22,
   "metadata": {},
   "outputs": [
    {
     "data": {
      "text/plain": [
       "<matplotlib.collections.PathCollection at 0x7f4121f5d510>"
      ]
     },
     "execution_count": 22,
     "metadata": {},
     "output_type": "execute_result"
    },
    {
     "data": {
      "image/png": "[encoded data removed]",
      "text/plain": [
       "<Figure size 432x288 with 1 Axes>"
      ]
     },
     "metadata": {
      "needs_background": "light"
     },
     "output_type": "display_data"
    }
   ],
   "source": [
    "color = mask['lable']\n",
    "plt.scatter(mask['ratio'],mask['mask rate'],c=color ,s = 100)"
   ]
  },
  {
   "cell_type": "code",
   "execution_count": 23,
   "metadata": {},
   "outputs": [],
   "source": [
    "mask_0 = mask[mask['lable']==0]\n",
    "mask_1 = mask[mask['lable']==1]\n",
    "mask_2 = mask[mask['lable']==2]"
   ]
  },
  {
   "cell_type": "code",
   "execution_count": 24,
   "metadata": {},
   "outputs": [
    {
     "data": {
      "text/html": [
       "<div>\n",
       "<style scoped>\n",
       "    .dataframe tbody tr th:only-of-type {\n",
       "        vertical-align: middle;\n",
       "    }\n",
       "\n",
       "    .dataframe tbody tr th {\n",
       "        vertical-align: top;\n",
       "    }\n",
       "\n",
       "    .dataframe thead th {\n",
       "        text-align: right;\n",
       "    }\n",
       "</style>\n",
       "<table border=\"1\" class=\"dataframe\">\n",
       "  <thead>\n",
       "    <tr style=\"text-align: right;\">\n",
       "      <th></th>\n",
       "      <th>mask rate</th>\n",
       "      <th>ratio</th>\n",
       "      <th>lable</th>\n",
       "    </tr>\n",
       "  </thead>\n",
       "  <tbody>\n",
       "    <tr>\n",
       "      <th>count</th>\n",
       "      <td>828.000000</td>\n",
       "      <td>828.000000</td>\n",
       "      <td>828.0</td>\n",
       "    </tr>\n",
       "    <tr>\n",
       "      <th>mean</th>\n",
       "      <td>0.732896</td>\n",
       "      <td>7.068811</td>\n",
       "      <td>0.0</td>\n",
       "    </tr>\n",
       "    <tr>\n",
       "      <th>std</th>\n",
       "      <td>0.097156</td>\n",
       "      <td>1.472472</td>\n",
       "      <td>0.0</td>\n",
       "    </tr>\n",
       "    <tr>\n",
       "      <th>min</th>\n",
       "      <td>0.457750</td>\n",
       "      <td>4.945885</td>\n",
       "      <td>0.0</td>\n",
       "    </tr>\n",
       "    <tr>\n",
       "      <th>25%</th>\n",
       "      <td>0.663812</td>\n",
       "      <td>5.821742</td>\n",
       "      <td>0.0</td>\n",
       "    </tr>\n",
       "    <tr>\n",
       "      <th>50%</th>\n",
       "      <td>0.731875</td>\n",
       "      <td>6.824046</td>\n",
       "      <td>0.0</td>\n",
       "    </tr>\n",
       "    <tr>\n",
       "      <th>75%</th>\n",
       "      <td>0.805312</td>\n",
       "      <td>8.178193</td>\n",
       "      <td>0.0</td>\n",
       "    </tr>\n",
       "    <tr>\n",
       "      <th>max</th>\n",
       "      <td>0.955500</td>\n",
       "      <td>10.408163</td>\n",
       "      <td>0.0</td>\n",
       "    </tr>\n",
       "  </tbody>\n",
       "</table>\n",
       "</div>"
      ],
      "text/plain": [
       "        mask rate       ratio  lable\n",
       "count  828.000000  828.000000  828.0\n",
       "mean     0.732896    7.068811    0.0\n",
       "std      0.097156    1.472472    0.0\n",
       "min      0.457750    4.945885    0.0\n",
       "25%      0.663812    5.821742    0.0\n",
       "50%      0.731875    6.824046    0.0\n",
       "75%      0.805312    8.178193    0.0\n",
       "max      0.955500   10.408163    0.0"
      ]
     },
     "execution_count": 24,
     "metadata": {},
     "output_type": "execute_result"
    }
   ],
   "source": [
    "mask_0.describe()"
   ]
  },
  {
   "cell_type": "code",
   "execution_count": 25,
   "metadata": {},
   "outputs": [
    {
     "data": {
      "text/html": [
       "<div>\n",
       "<style scoped>\n",
       "    .dataframe tbody tr th:only-of-type {\n",
       "        vertical-align: middle;\n",
       "    }\n",
       "\n",
       "    .dataframe tbody tr th {\n",
       "        vertical-align: top;\n",
       "    }\n",
       "\n",
       "    .dataframe thead th {\n",
       "        text-align: right;\n",
       "    }\n",
       "</style>\n",
       "<table border=\"1\" class=\"dataframe\">\n",
       "  <thead>\n",
       "    <tr style=\"text-align: right;\">\n",
       "      <th></th>\n",
       "      <th>mask rate</th>\n",
       "      <th>ratio</th>\n",
       "      <th>lable</th>\n",
       "    </tr>\n",
       "  </thead>\n",
       "  <tbody>\n",
       "    <tr>\n",
       "      <th>count</th>\n",
       "      <td>1824.000000</td>\n",
       "      <td>1824.000000</td>\n",
       "      <td>1824.0</td>\n",
       "    </tr>\n",
       "    <tr>\n",
       "      <th>mean</th>\n",
       "      <td>0.760780</td>\n",
       "      <td>2.839360</td>\n",
       "      <td>1.0</td>\n",
       "    </tr>\n",
       "    <tr>\n",
       "      <th>std</th>\n",
       "      <td>0.101151</td>\n",
       "      <td>1.057339</td>\n",
       "      <td>0.0</td>\n",
       "    </tr>\n",
       "    <tr>\n",
       "      <th>min</th>\n",
       "      <td>0.358250</td>\n",
       "      <td>1.016393</td>\n",
       "      <td>1.0</td>\n",
       "    </tr>\n",
       "    <tr>\n",
       "      <th>25%</th>\n",
       "      <td>0.688437</td>\n",
       "      <td>1.902954</td>\n",
       "      <td>1.0</td>\n",
       "    </tr>\n",
       "    <tr>\n",
       "      <th>50%</th>\n",
       "      <td>0.762125</td>\n",
       "      <td>2.760826</td>\n",
       "      <td>1.0</td>\n",
       "    </tr>\n",
       "    <tr>\n",
       "      <th>75%</th>\n",
       "      <td>0.839250</td>\n",
       "      <td>3.718449</td>\n",
       "      <td>1.0</td>\n",
       "    </tr>\n",
       "    <tr>\n",
       "      <th>max</th>\n",
       "      <td>0.962250</td>\n",
       "      <td>4.941236</td>\n",
       "      <td>1.0</td>\n",
       "    </tr>\n",
       "  </tbody>\n",
       "</table>\n",
       "</div>"
      ],
      "text/plain": [
       "         mask rate        ratio   lable\n",
       "count  1824.000000  1824.000000  1824.0\n",
       "mean      0.760780     2.839360     1.0\n",
       "std       0.101151     1.057339     0.0\n",
       "min       0.358250     1.016393     1.0\n",
       "25%       0.688437     1.902954     1.0\n",
       "50%       0.762125     2.760826     1.0\n",
       "75%       0.839250     3.718449     1.0\n",
       "max       0.962250     4.941236     1.0"
      ]
     },
     "execution_count": 25,
     "metadata": {},
     "output_type": "execute_result"
    }
   ],
   "source": [
    "mask_1.describe()"
   ]
  },
  {
   "cell_type": "code",
   "execution_count": 26,
   "metadata": {},
   "outputs": [
    {
     "data": {
      "text/html": [
       "<div>\n",
       "<style scoped>\n",
       "    .dataframe tbody tr th:only-of-type {\n",
       "        vertical-align: middle;\n",
       "    }\n",
       "\n",
       "    .dataframe tbody tr th {\n",
       "        vertical-align: top;\n",
       "    }\n",
       "\n",
       "    .dataframe thead th {\n",
       "        text-align: right;\n",
       "    }\n",
       "</style>\n",
       "<table border=\"1\" class=\"dataframe\">\n",
       "  <thead>\n",
       "    <tr style=\"text-align: right;\">\n",
       "      <th></th>\n",
       "      <th>mask rate</th>\n",
       "      <th>ratio</th>\n",
       "      <th>lable</th>\n",
       "    </tr>\n",
       "  </thead>\n",
       "  <tbody>\n",
       "    <tr>\n",
       "      <th>count</th>\n",
       "      <td>282.000000</td>\n",
       "      <td>282.000000</td>\n",
       "      <td>282.0</td>\n",
       "    </tr>\n",
       "    <tr>\n",
       "      <th>mean</th>\n",
       "      <td>0.715940</td>\n",
       "      <td>13.874779</td>\n",
       "      <td>2.0</td>\n",
       "    </tr>\n",
       "    <tr>\n",
       "      <th>std</th>\n",
       "      <td>0.100254</td>\n",
       "      <td>2.609150</td>\n",
       "      <td>0.0</td>\n",
       "    </tr>\n",
       "    <tr>\n",
       "      <th>min</th>\n",
       "      <td>0.464000</td>\n",
       "      <td>10.467211</td>\n",
       "      <td>2.0</td>\n",
       "    </tr>\n",
       "    <tr>\n",
       "      <th>25%</th>\n",
       "      <td>0.640687</td>\n",
       "      <td>11.446876</td>\n",
       "      <td>2.0</td>\n",
       "    </tr>\n",
       "    <tr>\n",
       "      <th>50%</th>\n",
       "      <td>0.713625</td>\n",
       "      <td>13.513250</td>\n",
       "      <td>2.0</td>\n",
       "    </tr>\n",
       "    <tr>\n",
       "      <th>75%</th>\n",
       "      <td>0.790312</td>\n",
       "      <td>15.978179</td>\n",
       "      <td>2.0</td>\n",
       "    </tr>\n",
       "    <tr>\n",
       "      <th>max</th>\n",
       "      <td>0.939250</td>\n",
       "      <td>19.923810</td>\n",
       "      <td>2.0</td>\n",
       "    </tr>\n",
       "  </tbody>\n",
       "</table>\n",
       "</div>"
      ],
      "text/plain": [
       "        mask rate       ratio  lable\n",
       "count  282.000000  282.000000  282.0\n",
       "mean     0.715940   13.874779    2.0\n",
       "std      0.100254    2.609150    0.0\n",
       "min      0.464000   10.467211    2.0\n",
       "25%      0.640687   11.446876    2.0\n",
       "50%      0.713625   13.513250    2.0\n",
       "75%      0.790312   15.978179    2.0\n",
       "max      0.939250   19.923810    2.0"
      ]
     },
     "execution_count": 26,
     "metadata": {},
     "output_type": "execute_result"
    }
   ],
   "source": [
    "mask_2.describe()"
   ]
  },
  {
   "cell_type": "code",
   "execution_count": 30,
   "metadata": {},
   "outputs": [],
   "source": [
    "feature_56 = feature_56.reset_index(['county'])\n",
    "mask = mask.reset_index(['county'])"
   ]
  },
  {
   "cell_type": "code",
   "execution_count": 31,
   "metadata": {},
   "outputs": [],
   "source": [
    "mask.rename(columns={'lable':'lablem','county':'county1'},inplace=True)"
   ]
  },
  {
   "cell_type": "code",
   "execution_count": 32,
   "metadata": {},
   "outputs": [],
   "source": [
    "final =pd.concat([mask,feature_56],axis=1)"
   ]
  },
  {
   "cell_type": "code",
   "execution_count": 33,
   "metadata": {},
   "outputs": [
    {
     "data": {
      "text/html": [
       "<div>\n",
       "<style scoped>\n",
       "    .dataframe tbody tr th:only-of-type {\n",
       "        vertical-align: middle;\n",
       "    }\n",
       "\n",
       "    .dataframe tbody tr th {\n",
       "        vertical-align: top;\n",
       "    }\n",
       "\n",
       "    .dataframe thead th {\n",
       "        text-align: right;\n",
       "    }\n",
       "</style>\n",
       "<table border=\"1\" class=\"dataframe\">\n",
       "  <thead>\n",
       "    <tr style=\"text-align: right;\">\n",
       "      <th></th>\n",
       "      <th>county1</th>\n",
       "      <th>mask rate</th>\n",
       "      <th>ratio</th>\n",
       "      <th>lablem</th>\n",
       "      <th>county</th>\n",
       "      <th>stay at home 56</th>\n",
       "      <th>&gt;50 gatherings 56</th>\n",
       "      <th>&gt;500 gatherings 56</th>\n",
       "      <th>restaurant dine-in 56</th>\n",
       "      <th>entertainment/gym 56</th>\n",
       "      <th>lable</th>\n",
       "    </tr>\n",
       "  </thead>\n",
       "  <tbody>\n",
       "    <tr>\n",
       "      <th>0</th>\n",
       "      <td>Abbeville</td>\n",
       "      <td>0.64250</td>\n",
       "      <td>5.216100</td>\n",
       "      <td>0</td>\n",
       "      <td>Abbeville</td>\n",
       "      <td>0</td>\n",
       "      <td>1</td>\n",
       "      <td>1</td>\n",
       "      <td>0</td>\n",
       "      <td>0</td>\n",
       "      <td>0</td>\n",
       "    </tr>\n",
       "    <tr>\n",
       "      <th>1</th>\n",
       "      <td>Acadia</td>\n",
       "      <td>0.65750</td>\n",
       "      <td>5.159126</td>\n",
       "      <td>0</td>\n",
       "      <td>Acadia</td>\n",
       "      <td>0</td>\n",
       "      <td>1</td>\n",
       "      <td>1</td>\n",
       "      <td>0</td>\n",
       "      <td>0</td>\n",
       "      <td>0</td>\n",
       "    </tr>\n",
       "    <tr>\n",
       "      <th>2</th>\n",
       "      <td>Accomack</td>\n",
       "      <td>0.93125</td>\n",
       "      <td>1.366825</td>\n",
       "      <td>1</td>\n",
       "      <td>Accomack</td>\n",
       "      <td>0</td>\n",
       "      <td>1</td>\n",
       "      <td>1</td>\n",
       "      <td>0</td>\n",
       "      <td>0</td>\n",
       "      <td>0</td>\n",
       "    </tr>\n",
       "    <tr>\n",
       "      <th>3</th>\n",
       "      <td>Ada</td>\n",
       "      <td>0.73300</td>\n",
       "      <td>7.916929</td>\n",
       "      <td>0</td>\n",
       "      <td>Ada</td>\n",
       "      <td>0</td>\n",
       "      <td>0</td>\n",
       "      <td>1</td>\n",
       "      <td>0</td>\n",
       "      <td>0</td>\n",
       "      <td>0</td>\n",
       "    </tr>\n",
       "    <tr>\n",
       "      <th>4</th>\n",
       "      <td>Adair</td>\n",
       "      <td>0.69025</td>\n",
       "      <td>3.448276</td>\n",
       "      <td>1</td>\n",
       "      <td>Adair</td>\n",
       "      <td>0</td>\n",
       "      <td>1</td>\n",
       "      <td>1</td>\n",
       "      <td>0</td>\n",
       "      <td>0</td>\n",
       "      <td>0</td>\n",
       "    </tr>\n",
       "    <tr>\n",
       "      <th>...</th>\n",
       "      <td>...</td>\n",
       "      <td>...</td>\n",
       "      <td>...</td>\n",
       "      <td>...</td>\n",
       "      <td>...</td>\n",
       "      <td>...</td>\n",
       "      <td>...</td>\n",
       "      <td>...</td>\n",
       "      <td>...</td>\n",
       "      <td>...</td>\n",
       "      <td>...</td>\n",
       "    </tr>\n",
       "    <tr>\n",
       "      <th>2929</th>\n",
       "      <td>Yuma</td>\n",
       "      <td>0.92700</td>\n",
       "      <td>5.350487</td>\n",
       "      <td>0</td>\n",
       "      <td>Yuma</td>\n",
       "      <td>0</td>\n",
       "      <td>1</td>\n",
       "      <td>1</td>\n",
       "      <td>1</td>\n",
       "      <td>1</td>\n",
       "      <td>1</td>\n",
       "    </tr>\n",
       "    <tr>\n",
       "      <th>2930</th>\n",
       "      <td>Yuma</td>\n",
       "      <td>0.61875</td>\n",
       "      <td>1.951415</td>\n",
       "      <td>1</td>\n",
       "      <td>Yuma</td>\n",
       "      <td>0</td>\n",
       "      <td>1</td>\n",
       "      <td>1</td>\n",
       "      <td>0</td>\n",
       "      <td>0</td>\n",
       "      <td>0</td>\n",
       "    </tr>\n",
       "    <tr>\n",
       "      <th>2931</th>\n",
       "      <td>Zapata</td>\n",
       "      <td>0.90025</td>\n",
       "      <td>9.765317</td>\n",
       "      <td>0</td>\n",
       "      <td>Zapata</td>\n",
       "      <td>1</td>\n",
       "      <td>1</td>\n",
       "      <td>1</td>\n",
       "      <td>0</td>\n",
       "      <td>0</td>\n",
       "      <td>0</td>\n",
       "    </tr>\n",
       "    <tr>\n",
       "      <th>2932</th>\n",
       "      <td>Zavala</td>\n",
       "      <td>0.81475</td>\n",
       "      <td>18.591125</td>\n",
       "      <td>2</td>\n",
       "      <td>Zavala</td>\n",
       "      <td>1</td>\n",
       "      <td>1</td>\n",
       "      <td>1</td>\n",
       "      <td>0</td>\n",
       "      <td>0</td>\n",
       "      <td>0</td>\n",
       "    </tr>\n",
       "    <tr>\n",
       "      <th>2933</th>\n",
       "      <td>Ziebach</td>\n",
       "      <td>0.70950</td>\n",
       "      <td>13.505882</td>\n",
       "      <td>2</td>\n",
       "      <td>Ziebach</td>\n",
       "      <td>0</td>\n",
       "      <td>0</td>\n",
       "      <td>0</td>\n",
       "      <td>1</td>\n",
       "      <td>0</td>\n",
       "      <td>2</td>\n",
       "    </tr>\n",
       "  </tbody>\n",
       "</table>\n",
       "<p>2934 rows × 11 columns</p>\n",
       "</div>"
      ],
      "text/plain": [
       "        county1  mask rate      ratio  lablem     county  stay at home 56  \\\n",
       "0     Abbeville    0.64250   5.216100       0  Abbeville                0   \n",
       "1        Acadia    0.65750   5.159126       0     Acadia                0   \n",
       "2      Accomack    0.93125   1.366825       1   Accomack                0   \n",
       "3           Ada    0.73300   7.916929       0        Ada                0   \n",
       "4         Adair    0.69025   3.448276       1      Adair                0   \n",
       "...         ...        ...        ...     ...        ...              ...   \n",
       "2929       Yuma    0.92700   5.350487       0       Yuma                0   \n",
       "2930       Yuma    0.61875   1.951415       1       Yuma                0   \n",
       "2931     Zapata    0.90025   9.765317       0     Zapata                1   \n",
       "2932     Zavala    0.81475  18.591125       2     Zavala                1   \n",
       "2933    Ziebach    0.70950  13.505882       2    Ziebach                0   \n",
       "\n",
       "      >50 gatherings 56  >500 gatherings 56  restaurant dine-in 56  \\\n",
       "0                     1                   1                      0   \n",
       "1                     1                   1                      0   \n",
       "2                     1                   1                      0   \n",
       "3                     0                   1                      0   \n",
       "4                     1                   1                      0   \n",
       "...                 ...                 ...                    ...   \n",
       "2929                  1                   1                      1   \n",
       "2930                  1                   1                      0   \n",
       "2931                  1                   1                      0   \n",
       "2932                  1                   1                      0   \n",
       "2933                  0                   0                      1   \n",
       "\n",
       "      entertainment/gym 56  lable  \n",
       "0                        0      0  \n",
       "1                        0      0  \n",
       "2                        0      0  \n",
       "3                        0      0  \n",
       "4                        0      0  \n",
       "...                    ...    ...  \n",
       "2929                     1      1  \n",
       "2930                     0      0  \n",
       "2931                     0      0  \n",
       "2932                     0      0  \n",
       "2933                     0      2  \n",
       "\n",
       "[2934 rows x 11 columns]"
      ]
     },
     "execution_count": 33,
     "metadata": {},
     "output_type": "execute_result"
    }
   ],
   "source": [
    "final"
   ]
  },
  {
   "cell_type": "code",
   "execution_count": 34,
   "metadata": {},
   "outputs": [],
   "source": [
    "lvl=final[['county','lablem','lable']]"
   ]
  },
  {
   "cell_type": "code",
   "execution_count": 35,
   "metadata": {},
   "outputs": [
    {
     "data": {
      "text/plain": [
       "(2934, 11)"
      ]
     },
     "execution_count": 35,
     "metadata": {},
     "output_type": "execute_result"
    }
   ],
   "source": [
    "final.shape"
   ]
  },
  {
   "cell_type": "code",
   "execution_count": 36,
   "metadata": {},
   "outputs": [
    {
     "name": "stderr",
     "output_type": "stream",
     "text": [
      "/root/miniconda3/lib/python3.7/site-packages/ipykernel_launcher.py:1: SettingWithCopyWarning: \n",
      "A value is trying to be set on a copy of a slice from a DataFrame.\n",
      "Try using .loc[row_indexer,col_indexer] = value instead\n",
      "\n",
      "See the caveats in the documentation: https://pandas.pydata.org/pandas-docs/stable/user_guide/indexing.html#returning-a-view-versus-a-copy\n",
      "  \"\"\"Entry point for launching an IPython kernel.\n"
     ]
    }
   ],
   "source": [
    "lvl['lvl'] = ' '"
   ]
  },
  {
   "cell_type": "code",
   "execution_count": 37,
   "metadata": {},
   "outputs": [
    {
     "data": {
      "text/html": [
       "<div>\n",
       "<style scoped>\n",
       "    .dataframe tbody tr th:only-of-type {\n",
       "        vertical-align: middle;\n",
       "    }\n",
       "\n",
       "    .dataframe tbody tr th {\n",
       "        vertical-align: top;\n",
       "    }\n",
       "\n",
       "    .dataframe thead th {\n",
       "        text-align: right;\n",
       "    }\n",
       "</style>\n",
       "<table border=\"1\" class=\"dataframe\">\n",
       "  <thead>\n",
       "    <tr style=\"text-align: right;\">\n",
       "      <th></th>\n",
       "      <th>county</th>\n",
       "      <th>lablem</th>\n",
       "      <th>lable</th>\n",
       "      <th>lvl</th>\n",
       "    </tr>\n",
       "  </thead>\n",
       "  <tbody>\n",
       "    <tr>\n",
       "      <th>0</th>\n",
       "      <td>Abbeville</td>\n",
       "      <td>0</td>\n",
       "      <td>0</td>\n",
       "      <td></td>\n",
       "    </tr>\n",
       "    <tr>\n",
       "      <th>1</th>\n",
       "      <td>Acadia</td>\n",
       "      <td>0</td>\n",
       "      <td>0</td>\n",
       "      <td></td>\n",
       "    </tr>\n",
       "    <tr>\n",
       "      <th>2</th>\n",
       "      <td>Accomack</td>\n",
       "      <td>1</td>\n",
       "      <td>0</td>\n",
       "      <td></td>\n",
       "    </tr>\n",
       "    <tr>\n",
       "      <th>3</th>\n",
       "      <td>Ada</td>\n",
       "      <td>0</td>\n",
       "      <td>0</td>\n",
       "      <td></td>\n",
       "    </tr>\n",
       "    <tr>\n",
       "      <th>4</th>\n",
       "      <td>Adair</td>\n",
       "      <td>1</td>\n",
       "      <td>0</td>\n",
       "      <td></td>\n",
       "    </tr>\n",
       "    <tr>\n",
       "      <th>...</th>\n",
       "      <td>...</td>\n",
       "      <td>...</td>\n",
       "      <td>...</td>\n",
       "      <td>...</td>\n",
       "    </tr>\n",
       "    <tr>\n",
       "      <th>2929</th>\n",
       "      <td>Yuma</td>\n",
       "      <td>0</td>\n",
       "      <td>1</td>\n",
       "      <td></td>\n",
       "    </tr>\n",
       "    <tr>\n",
       "      <th>2930</th>\n",
       "      <td>Yuma</td>\n",
       "      <td>1</td>\n",
       "      <td>0</td>\n",
       "      <td></td>\n",
       "    </tr>\n",
       "    <tr>\n",
       "      <th>2931</th>\n",
       "      <td>Zapata</td>\n",
       "      <td>0</td>\n",
       "      <td>0</td>\n",
       "      <td></td>\n",
       "    </tr>\n",
       "    <tr>\n",
       "      <th>2932</th>\n",
       "      <td>Zavala</td>\n",
       "      <td>2</td>\n",
       "      <td>0</td>\n",
       "      <td></td>\n",
       "    </tr>\n",
       "    <tr>\n",
       "      <th>2933</th>\n",
       "      <td>Ziebach</td>\n",
       "      <td>2</td>\n",
       "      <td>2</td>\n",
       "      <td></td>\n",
       "    </tr>\n",
       "  </tbody>\n",
       "</table>\n",
       "<p>2934 rows × 4 columns</p>\n",
       "</div>"
      ],
      "text/plain": [
       "         county  lablem  lable lvl\n",
       "0     Abbeville       0      0    \n",
       "1        Acadia       0      0    \n",
       "2      Accomack       1      0    \n",
       "3           Ada       0      0    \n",
       "4         Adair       1      0    \n",
       "...         ...     ...    ...  ..\n",
       "2929       Yuma       0      1    \n",
       "2930       Yuma       1      0    \n",
       "2931     Zapata       0      0    \n",
       "2932     Zavala       2      0    \n",
       "2933    Ziebach       2      2    \n",
       "\n",
       "[2934 rows x 4 columns]"
      ]
     },
     "execution_count": 37,
     "metadata": {},
     "output_type": "execute_result"
    }
   ],
   "source": [
    "lvl"
   ]
  },
  {
   "cell_type": "code",
   "execution_count": 38,
   "metadata": {},
   "outputs": [
    {
     "name": "stderr",
     "output_type": "stream",
     "text": [
      "/root/miniconda3/lib/python3.7/site-packages/pandas/core/indexing.py:1765: SettingWithCopyWarning: \n",
      "A value is trying to be set on a copy of a slice from a DataFrame.\n",
      "Try using .loc[row_indexer,col_indexer] = value instead\n",
      "\n",
      "See the caveats in the documentation: https://pandas.pydata.org/pandas-docs/stable/user_guide/indexing.html#returning-a-view-versus-a-copy\n",
      "  isetter(loc, value)\n"
     ]
    }
   ],
   "source": [
    "for i in range(len(lvl)):\n",
    "    if lvl.iloc[i,1] == 1:\n",
    "        if lvl.iloc[i,2] == 1:\n",
    "            lvl.iloc[i,3] = 1\n",
    "        if lvl.iloc[i,2] == 2:\n",
    "            lvl.iloc[i,3] = 3\n",
    "        if lvl.iloc[i,2] == 0:\n",
    "            lvl.iloc[i,3] = 2\n",
    "    if lvl.iloc[i,1] == 0:\n",
    "        if lvl.iloc[i,2] == 1:\n",
    "            lvl.iloc[i,3] = 2\n",
    "        if lvl.iloc[i,2] == 2:\n",
    "            lvl.iloc[i,3] = 4\n",
    "        if lvl.iloc[i,2] == 0:\n",
    "            lvl.iloc[i,3] = 3\n",
    "    if lvl.iloc[i,1] == 2:\n",
    "        if lvl.iloc[i,2] == 1:\n",
    "            lvl.iloc[i,3] = 3\n",
    "        if lvl.iloc[i,2] == 2:\n",
    "            lvl.iloc[i,3] = 5\n",
    "        if lvl.iloc[i,2] == 0:\n",
    "            lvl.iloc[i,3] = 4"
   ]
  },
  {
   "cell_type": "code",
   "execution_count": 39,
   "metadata": {},
   "outputs": [],
   "source": [
    "lvl = lvl['lvl']"
   ]
  },
  {
   "cell_type": "code",
   "execution_count": 40,
   "metadata": {},
   "outputs": [],
   "source": [
    "final1 =pd.concat([final,lvl],axis=1)"
   ]
  },
  {
   "cell_type": "code",
   "execution_count": 41,
   "metadata": {},
   "outputs": [],
   "source": [
    "final1 = final1.drop(['county1','lablem','lable'],axis=1)"
   ]
  },
  {
   "cell_type": "code",
   "execution_count": 42,
   "metadata": {},
   "outputs": [
    {
     "data": {
      "text/plain": [
       "2    1332\n",
       "3     936\n",
       "1     344\n",
       "4     289\n",
       "5      33\n",
       "Name: lvl, dtype: int64"
      ]
     },
     "execution_count": 42,
     "metadata": {},
     "output_type": "execute_result"
    }
   ],
   "source": [
    "final1['lvl'].value_counts()"
   ]
  },
  {
   "cell_type": "code",
   "execution_count": null,
   "metadata": {},
   "outputs": [],
   "source": [
    "final1['lvl'].hist()"
   ]
  },
  {
   "cell_type": "markdown",
   "metadata": {},
   "source": [
    "##### Random Forest"
   ]
  },
  {
   "cell_type": "code",
   "execution_count": 44,
   "metadata": {},
   "outputs": [],
   "source": [
    "X = final1[['mask rate','ratio','stay at home 56','>50 gatherings 56','>500 gatherings 56','restaurant dine-in 56','entertainment/gym 56']]\n",
    "y = lvl.astype('int')"
   ]
  },
  {
   "cell_type": "code",
   "execution_count": 45,
   "metadata": {},
   "outputs": [],
   "source": [
    "import sklearn.ensemble as se\n",
    "from sklearn.naive_bayes import BernoulliNB\n",
    "from sklearn.preprocessing import StandardScaler\n",
    "from sklearn.metrics import accuracy_score\n",
    "from sklearn.metrics import confusion_matrix\n",
    "from sklearn.metrics import classification_report\n",
    "from sklearn.model_selection import train_test_split\n",
    "import sklearn.metrics as sm"
   ]
  },
  {
   "cell_type": "code",
   "execution_count": 46,
   "metadata": {},
   "outputs": [],
   "source": [
    "RF = se.RandomForestClassifier(max_depth=10, n_estimators=333, min_samples_split=2)"
   ]
  },
  {
   "cell_type": "code",
   "execution_count": 47,
   "metadata": {},
   "outputs": [],
   "source": [
    "x_train, x_test, y_train, y_test = train_test_split(X, y, test_size=0.85)"
   ]
  },
  {
   "cell_type": "code",
   "execution_count": 48,
   "metadata": {},
   "outputs": [
    {
     "data": {
      "text/plain": [
       "RandomForestClassifier(max_depth=10, n_estimators=333)"
      ]
     },
     "execution_count": 48,
     "metadata": {},
     "output_type": "execute_result"
    }
   ],
   "source": [
    "RF.fit(x_train, y_train)"
   ]
  },
  {
   "cell_type": "code",
   "execution_count": 49,
   "metadata": {},
   "outputs": [],
   "source": [
    "pred_test_y = RF.predict(x_test)"
   ]
  },
  {
   "cell_type": "code",
   "execution_count": 50,
   "metadata": {},
   "outputs": [
    {
     "name": "stdout",
     "output_type": "stream",
     "text": [
      "score： 0.9721693017731748\n"
     ]
    }
   ],
   "source": [
    "print('score：', sm.r2_score(y_test, pred_test_y))"
   ]
  },
  {
   "cell_type": "markdown",
   "metadata": {},
   "source": [
    "##### Bayes"
   ]
  },
  {
   "cell_type": "code",
   "execution_count": 51,
   "metadata": {},
   "outputs": [],
   "source": [
    "from sklearn.naive_bayes import GaussianNB\n",
    "from sklearn.naive_bayes import BernoulliNB"
   ]
  },
  {
   "cell_type": "code",
   "execution_count": 57,
   "metadata": {},
   "outputs": [],
   "source": [
    "x_trainnb, x_testnb, y_trainnb, y_testnb = train_test_split(X, y, test_size=0.9)"
   ]
  },
  {
   "cell_type": "code",
   "execution_count": 58,
   "metadata": {},
   "outputs": [],
   "source": [
    "clf= GaussianNB()"
   ]
  },
  {
   "cell_type": "code",
   "execution_count": 59,
   "metadata": {},
   "outputs": [
    {
     "data": {
      "text/plain": [
       "GaussianNB()"
      ]
     },
     "execution_count": 59,
     "metadata": {},
     "output_type": "execute_result"
    }
   ],
   "source": [
    "clf.fit(x_trainnb,y_trainnb)"
   ]
  },
  {
   "cell_type": "code",
   "execution_count": 60,
   "metadata": {},
   "outputs": [],
   "source": [
    "pred_tesy_NB_y = clf.predict(x_testnb)"
   ]
  },
  {
   "cell_type": "code",
   "execution_count": 61,
   "metadata": {},
   "outputs": [
    {
     "name": "stdout",
     "output_type": "stream",
     "text": [
      "score： 0.17733891272822289\n"
     ]
    }
   ],
   "source": [
    "print('score：', sm.r2_score(y_testnb, pred_tesy_NB_y))"
   ]
  },
  {
   "cell_type": "code",
   "execution_count": 62,
   "metadata": {},
   "outputs": [],
   "source": [
    "bnl = BernoulliNB()"
   ]
  },
  {
   "cell_type": "code",
   "execution_count": 63,
   "metadata": {},
   "outputs": [
    {
     "data": {
      "text/plain": [
       "BernoulliNB()"
      ]
     },
     "execution_count": 63,
     "metadata": {},
     "output_type": "execute_result"
    }
   ],
   "source": [
    "bnl.fit(x_trainnb,y_trainnb)"
   ]
  },
  {
   "cell_type": "code",
   "execution_count": 64,
   "metadata": {},
   "outputs": [],
   "source": [
    "pred_tesy_bnl_y = bnl.predict(x_testnb)"
   ]
  },
  {
   "cell_type": "code",
   "execution_count": 65,
   "metadata": {},
   "outputs": [
    {
     "name": "stdout",
     "output_type": "stream",
     "text": [
      "score： 0.1340141342783462\n"
     ]
    }
   ],
   "source": [
    "print('score：', sm.r2_score(y_testnb, pred_tesy_bnl_y))"
   ]
  },
  {
   "cell_type": "code",
   "execution_count": null,
   "metadata": {},
   "outputs": [],
   "source": []
  }
 ],
 "metadata": {
  "kernelspec": {
   "display_name": "Python3.7",
   "language": "python",
   "name": "python3"
  },
  "language_info": {
   "codemirror_mode": {
    "name": "ipython",
    "version": 3
   },
   "file_extension": ".py",
   "mimetype": "text/x-python",
   "name": "python",
   "nbconvert_exporter": "python",
   "pygments_lexer": "ipython3",
   "version": "3.7.7"
  }
 },
 "nbformat": 4,
 "nbformat_minor": 4
}
